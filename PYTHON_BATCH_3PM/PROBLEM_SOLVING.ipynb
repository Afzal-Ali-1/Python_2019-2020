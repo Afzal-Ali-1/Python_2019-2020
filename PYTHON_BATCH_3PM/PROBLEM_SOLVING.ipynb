{
 "cells": [
  {
   "cell_type": "code",
   "execution_count": 1,
   "metadata": {},
   "outputs": [],
   "source": [
    "arr=[1,4,8,16,2,0,9,11,6]\n",
    "c=0\n",
    "for var_1 in arr:\n",
    "    c=c+1\n",
    "First=arr[0]\n",
    "Second=arr[0]\n",
    "for var in range(c):\n",
    "    if arr[var]>First:\n",
    "        Second=First\n",
    "        First=arr[var]\n",
    "    elif arr[var]>Second and arr[var]!=First:\n",
    "        Second=arr[var]\n",
    "    else:\n",
    "        pass\n",
    "print(Second)\n",
    "print(First)\n",
    "    "
   ]
  },
  {
   "cell_type": "code",
   "execution_count": null,
   "metadata": {},
   "outputs": [],
   "source": []
  },
  {
   "cell_type": "code",
   "execution_count": null,
   "metadata": {},
   "outputs": [],
   "source": []
  }
 ],
 "metadata": {
  "kernelspec": {
   "display_name": "Python 3",
   "language": "python",
   "name": "python3"
  },
  "language_info": {
   "codemirror_mode": {
    "name": "ipython",
    "version": 3
   },
   "file_extension": ".py",
   "mimetype": "text/x-python",
   "name": "python",
   "nbconvert_exporter": "python",
   "pygments_lexer": "ipython3",
   "version": "3.6.5"
  }
 },
 "nbformat": 4,
 "nbformat_minor": 2
}
