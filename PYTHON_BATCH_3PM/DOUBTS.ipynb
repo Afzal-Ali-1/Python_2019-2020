{
 "cells": [
  {
   "cell_type": "code",
   "execution_count": 1,
   "metadata": {},
   "outputs": [],
   "source": [
    "from pprint import pprint "
   ]
  },
  {
   "cell_type": "code",
   "execution_count": 2,
   "metadata": {},
   "outputs": [],
   "source": [
    "d={1: {\n",
    "    \"Name\":\"Afzal\",\n",
    "    \"company\":\"Grras\",\n",
    "    \"Place\":\"Indore\",\n",
    "    \"Hometown\":\"Nowrozabad\"\n",
    "},\n",
    "  2:{\"Name\":\"Afzal\",\n",
    "    \"company\":\"Grras\",\n",
    "    \"Place\":\"Indore\",\n",
    "    \"Hometown\":\"Nowrozabad\"},\n",
    "  3:{\"Name\":\"Afzal\",\n",
    "    \"company\":\"Grras\",\n",
    "    \"Place\":\"Indore\",\n",
    "    \"Hometown\":\"Nowrozabad\"}}"
   ]
  },
  {
   "cell_type": "code",
   "execution_count": 4,
   "metadata": {},
   "outputs": [
    {
     "name": "stdout",
     "output_type": "stream",
     "text": [
      "{1: {'Name': 'Afzal', 'company': 'Grras', 'Place': 'Indore', 'Hometown': 'Nowrozabad'}, 2: {'Name': 'Afzal', 'company': 'Grras', 'Place': 'Indore', 'Hometown': 'Nowrozabad'}, 3: {'Name': 'Afzal', 'company': 'Grras', 'Place': 'Indore', 'Hometown': 'Nowrozabad'}}\n"
     ]
    }
   ],
   "source": [
    "print(d)"
   ]
  },
  {
   "cell_type": "code",
   "execution_count": 5,
   "metadata": {},
   "outputs": [
    {
     "name": "stdout",
     "output_type": "stream",
     "text": [
      "{1: {'Hometown': 'Nowrozabad',\n",
      "     'Name': 'Afzal',\n",
      "     'Place': 'Indore',\n",
      "     'company': 'Grras'},\n",
      " 2: {'Hometown': 'Nowrozabad',\n",
      "     'Name': 'Afzal',\n",
      "     'Place': 'Indore',\n",
      "     'company': 'Grras'},\n",
      " 3: {'Hometown': 'Nowrozabad',\n",
      "     'Name': 'Afzal',\n",
      "     'Place': 'Indore',\n",
      "     'company': 'Grras'}}\n"
     ]
    }
   ],
   "source": [
    "pprint(d)"
   ]
  },
  {
   "cell_type": "code",
   "execution_count": 7,
   "metadata": {},
   "outputs": [],
   "source": [
    "a=\"Prabodh\""
   ]
  },
  {
   "cell_type": "code",
   "execution_count": 8,
   "metadata": {},
   "outputs": [
    {
     "data": {
      "text/plain": [
       "'PRABODH'"
      ]
     },
     "execution_count": 8,
     "metadata": {},
     "output_type": "execute_result"
    }
   ],
   "source": [
    "a.upper()"
   ]
  },
  {
   "cell_type": "code",
   "execution_count": null,
   "metadata": {},
   "outputs": [],
   "source": []
  }
 ],
 "metadata": {
  "kernelspec": {
   "display_name": "Python 3",
   "language": "python",
   "name": "python3"
  },
  "language_info": {
   "codemirror_mode": {
    "name": "ipython",
    "version": 3
   },
   "file_extension": ".py",
   "mimetype": "text/x-python",
   "name": "python",
   "nbconvert_exporter": "python",
   "pygments_lexer": "ipython3",
   "version": "3.6.5"
  }
 },
 "nbformat": 4,
 "nbformat_minor": 2
}
