{
 "cells": [
  {
   "cell_type": "code",
   "execution_count": 3,
   "metadata": {},
   "outputs": [],
   "source": [
    "json_data=\"\"\"\n",
    "{\"name\":\"AFzal\",\n",
    "\"phone_number\":654644654,\n",
    "\"Company\":\"Grras soltution private limited\"}\"\"\"\n",
    "#json data"
   ]
  },
  {
   "cell_type": "code",
   "execution_count": 4,
   "metadata": {},
   "outputs": [
    {
     "name": "stdout",
     "output_type": "stream",
     "text": [
      "\n",
      "{\"name\":\"AFzal\",\n",
      "\"phone_number\":654644654,\n",
      "\"Company\":\"Grras soltution private limited\"}\n"
     ]
    }
   ],
   "source": [
    "print(json_data)"
   ]
  },
  {
   "cell_type": "code",
   "execution_count": 5,
   "metadata": {},
   "outputs": [],
   "source": [
    "import json"
   ]
  },
  {
   "cell_type": "code",
   "execution_count": 6,
   "metadata": {},
   "outputs": [],
   "source": [
    "python_data=json.loads(json_data)#deserializer"
   ]
  },
  {
   "cell_type": "code",
   "execution_count": 7,
   "metadata": {},
   "outputs": [
    {
     "name": "stdout",
     "output_type": "stream",
     "text": [
      "{'name': 'AFzal', 'phone_number': 654644654, 'Company': 'Grras soltution private limited'}\n"
     ]
    }
   ],
   "source": [
    "print(python_data)"
   ]
  },
  {
   "cell_type": "code",
   "execution_count": 8,
   "metadata": {},
   "outputs": [
    {
     "name": "stdout",
     "output_type": "stream",
     "text": [
      "<class 'str'>\n",
      "<class 'dict'>\n"
     ]
    }
   ],
   "source": [
    "print(type(json_data))\n",
    "print(type(python_data))"
   ]
  },
  {
   "cell_type": "code",
   "execution_count": 36,
   "metadata": {},
   "outputs": [],
   "source": [
    "python_data={\"AFzal_batch\":{1001:{\"name\":\"sana\",\n",
    "                           \"Graduation\":\"BCA\",\n",
    "                           \"Contact\":9564654654},\n",
    "                           1002: {\"name\":\"Prabodh\",\n",
    "                            \"Graduation\":\"BBA running\",\n",
    "                            \"Contact\":454},\n",
    "                           1003: {\"name\":\"piyush\",\n",
    "                            \"Graduation\":\"Btech\",\n",
    "                            \"Contact\":454}}}"
   ]
  },
  {
   "cell_type": "code",
   "execution_count": 23,
   "metadata": {},
   "outputs": [
    {
     "name": "stdout",
     "output_type": "stream",
     "text": [
      "{'AFzal_batch': {1001: {'Contact': 9564654654,\n",
      "                        'Graduation': 'BCA',\n",
      "                        'name': 'sana'},\n",
      "                 1002: {'Contact': 454,\n",
      "                        'Graduation': 'BBA running',\n",
      "                        'name': 'Prabodh'},\n",
      "                 1003: {'Contact': 454,\n",
      "                        'Graduation': 'Btech',\n",
      "                        'name': 'piyush'}}}\n",
      "<class 'dict'>\n"
     ]
    }
   ],
   "source": [
    "from pprint import pprint\n",
    "pprint(python_data)\n",
    "print(type(python_data))"
   ]
  },
  {
   "cell_type": "code",
   "execution_count": 24,
   "metadata": {},
   "outputs": [],
   "source": [
    "json_data=json.dumps(python_data)"
   ]
  },
  {
   "cell_type": "code",
   "execution_count": 25,
   "metadata": {},
   "outputs": [
    {
     "name": "stdout",
     "output_type": "stream",
     "text": [
      "{\"AFzal_batch\": {\"1001\": {\"name\": \"sana\", \"Graduation\": \"BCA\", \"Contact\": 9564654654}, \"1002\": {\"name\": \"Prabodh\", \"Graduation\": \"BBA running\", \"Contact\": 454}, \"1003\": {\"name\": \"piyush\", \"Graduation\": \"Btech\", \"Contact\": 454}}}\n",
      "<class 'str'>\n"
     ]
    }
   ],
   "source": [
    "print(json_data)\n",
    "print(type(json_data))"
   ]
  },
  {
   "cell_type": "code",
   "execution_count": 29,
   "metadata": {},
   "outputs": [
    {
     "name": "stdout",
     "output_type": "stream",
     "text": [
      "{'AFzal_batch': {1001: {'name': 'sana', 'Graduation': 'BCA', 'Contact': 9564654654}, 1002: {'name': 'Prabodh', 'Graduation': 'BBA running', 'Contact': 454}, 1003: {'name': 'piyush', 'Graduation': 'Btech', 'Contact': 454}}}\n"
     ]
    }
   ],
   "source": [
    "print(python_data)"
   ]
  },
  {
   "cell_type": "code",
   "execution_count": 33,
   "metadata": {},
   "outputs": [],
   "source": [
    "with open(\"Sana_Python.txt\",\"w\") as d:\n",
    "    d.write(str(python_data))\n",
    "    "
   ]
  },
  {
   "cell_type": "code",
   "execution_count": 38,
   "metadata": {},
   "outputs": [],
   "source": [
    "with open(\"Sana_Json.json\",\"w\") as data:\n",
    "    json.dump(python_data,data)\n",
    "    "
   ]
  },
  {
   "cell_type": "code",
   "execution_count": 5,
   "metadata": {},
   "outputs": [],
   "source": [
    "import pickle"
   ]
  },
  {
   "cell_type": "code",
   "execution_count": 6,
   "metadata": {},
   "outputs": [],
   "source": [
    "Python_data=[\"Sana\",\"Piyush\",\"Prabodh\",\"Afzal\"]"
   ]
  },
  {
   "cell_type": "code",
   "execution_count": 7,
   "metadata": {},
   "outputs": [],
   "source": [
    "pickle_data=pickle.dumps(Python_data)"
   ]
  },
  {
   "cell_type": "code",
   "execution_count": 8,
   "metadata": {},
   "outputs": [
    {
     "name": "stdout",
     "output_type": "stream",
     "text": [
      "b'\\x80\\x03]q\\x00(X\\x04\\x00\\x00\\x00Sanaq\\x01X\\x06\\x00\\x00\\x00Piyushq\\x02X\\x07\\x00\\x00\\x00Prabodhq\\x03X\\x05\\x00\\x00\\x00Afzalq\\x04e.'\n"
     ]
    }
   ],
   "source": [
    "print(pickle_data)"
   ]
  },
  {
   "cell_type": "code",
   "execution_count": 9,
   "metadata": {},
   "outputs": [],
   "source": [
    "Python_data=pickle.loads(pickle_data)"
   ]
  },
  {
   "cell_type": "code",
   "execution_count": 10,
   "metadata": {},
   "outputs": [
    {
     "name": "stdout",
     "output_type": "stream",
     "text": [
      "['Sana', 'Piyush', 'Prabodh', 'Afzal']\n"
     ]
    }
   ],
   "source": [
    "print(Python_data)"
   ]
  },
  {
   "cell_type": "code",
   "execution_count": 11,
   "metadata": {},
   "outputs": [],
   "source": [
    "data={\"cricketer\":{\"Virat\":100,\n",
    "                  \"Dhoni\":100,\n",
    "                  \"sachin\":25,\n",
    "                  \"Rohit sharme\":264}}"
   ]
  },
  {
   "cell_type": "code",
   "execution_count": 12,
   "metadata": {},
   "outputs": [
    {
     "name": "stdout",
     "output_type": "stream",
     "text": [
      "{'cricketer': {'Virat': 100, 'Dhoni': 100, 'sachin': 25, 'Rohit sharme': 264}}\n"
     ]
    }
   ],
   "source": [
    "print(data)"
   ]
  },
  {
   "cell_type": "code",
   "execution_count": 13,
   "metadata": {},
   "outputs": [],
   "source": [
    "pickle_data=pickle.dumps(data)"
   ]
  },
  {
   "cell_type": "code",
   "execution_count": 14,
   "metadata": {},
   "outputs": [
    {
     "name": "stdout",
     "output_type": "stream",
     "text": [
      "b'\\x80\\x03}q\\x00X\\t\\x00\\x00\\x00cricketerq\\x01}q\\x02(X\\x05\\x00\\x00\\x00Viratq\\x03KdX\\x05\\x00\\x00\\x00Dhoniq\\x04KdX\\x06\\x00\\x00\\x00sachinq\\x05K\\x19X\\x0c\\x00\\x00\\x00Rohit sharmeq\\x06M\\x08\\x01us.'\n"
     ]
    }
   ],
   "source": [
    "print(pickle_data)"
   ]
  },
  {
   "cell_type": "code",
   "execution_count": 15,
   "metadata": {},
   "outputs": [],
   "source": [
    "data_=pickle.loads(pickle_data)"
   ]
  },
  {
   "cell_type": "code",
   "execution_count": 17,
   "metadata": {},
   "outputs": [
    {
     "name": "stdout",
     "output_type": "stream",
     "text": [
      "{'cricketer': {'Virat': 100, 'Dhoni': 100, 'sachin': 25, 'Rohit sharme': 264}}\n"
     ]
    }
   ],
   "source": [
    "print(data)"
   ]
  },
  {
   "cell_type": "code",
   "execution_count": 18,
   "metadata": {},
   "outputs": [
    {
     "data": {
      "text/plain": [
       "{'cricketer': {'Virat': 100, 'Dhoni': 100, 'sachin': 25, 'Rohit sharme': 264}}"
      ]
     },
     "execution_count": 18,
     "metadata": {},
     "output_type": "execute_result"
    }
   ],
   "source": [
    "data"
   ]
  },
  {
   "cell_type": "code",
   "execution_count": 27,
   "metadata": {},
   "outputs": [],
   "source": [
    "with open(\"pickle.pickle\",\"wb\") as file:\n",
    "    pickle.dump(data,file)"
   ]
  },
  {
   "cell_type": "code",
   "execution_count": 29,
   "metadata": {},
   "outputs": [],
   "source": [
    "data={\"Student\":{\"Afzal\":1233,\n",
    "                \"Piyush\":12233433}}"
   ]
  },
  {
   "cell_type": "code",
   "execution_count": 33,
   "metadata": {},
   "outputs": [
    {
     "ename": "UnsupportedOperation",
     "evalue": "write",
     "output_type": "error",
     "traceback": [
      "\u001b[1;31m---------------------------------------------------------------------------\u001b[0m",
      "\u001b[1;31mUnsupportedOperation\u001b[0m                      Traceback (most recent call last)",
      "\u001b[1;32m<ipython-input-33-59b58231848b>\u001b[0m in \u001b[0;36m<module>\u001b[1;34m()\u001b[0m\n\u001b[0;32m      1\u001b[0m \u001b[1;32mwith\u001b[0m \u001b[0mopen\u001b[0m\u001b[1;33m(\u001b[0m\u001b[1;34m\"pickle.pickle\"\u001b[0m\u001b[1;33m,\u001b[0m\u001b[1;34m\"rb\"\u001b[0m\u001b[1;33m)\u001b[0m \u001b[1;32mas\u001b[0m \u001b[0mfile\u001b[0m\u001b[1;33m:\u001b[0m\u001b[1;33m\u001b[0m\u001b[0m\n\u001b[1;32m----> 2\u001b[1;33m     \u001b[0mpickle\u001b[0m\u001b[1;33m.\u001b[0m\u001b[0mdump\u001b[0m\u001b[1;33m(\u001b[0m\u001b[0mdata\u001b[0m\u001b[1;33m,\u001b[0m\u001b[0mfile\u001b[0m\u001b[1;33m)\u001b[0m\u001b[1;33m\u001b[0m\u001b[0m\n\u001b[0m",
      "\u001b[1;31mUnsupportedOperation\u001b[0m: write"
     ]
    }
   ],
   "source": [
    "with open(\"pickle.pickle\",\"rb\") as file:\n",
    "    pickle.dump(data,file)"
   ]
  },
  {
   "cell_type": "code",
   "execution_count": 32,
   "metadata": {},
   "outputs": [
    {
     "ename": "TypeError",
     "evalue": "a bytes-like object is required, not 'str'",
     "output_type": "error",
     "traceback": [
      "\u001b[1;31m---------------------------------------------------------------------------\u001b[0m",
      "\u001b[1;31mTypeError\u001b[0m                                 Traceback (most recent call last)",
      "\u001b[1;32m<ipython-input-32-84477654dde5>\u001b[0m in \u001b[0;36m<module>\u001b[1;34m()\u001b[0m\n\u001b[0;32m      1\u001b[0m \u001b[0mfile\u001b[0m\u001b[1;33m=\u001b[0m\u001b[0mopen\u001b[0m\u001b[1;33m(\u001b[0m\u001b[1;34m\"pickle.pickle\"\u001b[0m\u001b[1;33m)\u001b[0m\u001b[1;33m\u001b[0m\u001b[0m\n\u001b[1;32m----> 2\u001b[1;33m \u001b[0mdata\u001b[0m\u001b[1;33m=\u001b[0m\u001b[0mpickle\u001b[0m\u001b[1;33m.\u001b[0m\u001b[0mload\u001b[0m\u001b[1;33m(\u001b[0m\u001b[0mfile\u001b[0m\u001b[1;33m)\u001b[0m\u001b[1;33m\u001b[0m\u001b[0m\n\u001b[0m",
      "\u001b[1;31mTypeError\u001b[0m: a bytes-like object is required, not 'str'"
     ]
    }
   ],
   "source": [
    "file=open(\"pickle.pickle\")\n",
    "data=pickle.load(file)"
   ]
  },
  {
   "cell_type": "code",
   "execution_count": null,
   "metadata": {},
   "outputs": [],
   "source": []
  }
 ],
 "metadata": {
  "kernelspec": {
   "display_name": "Python 3",
   "language": "python",
   "name": "python3"
  },
  "language_info": {
   "codemirror_mode": {
    "name": "ipython",
    "version": 3
   },
   "file_extension": ".py",
   "mimetype": "text/x-python",
   "name": "python",
   "nbconvert_exporter": "python",
   "pygments_lexer": "ipython3",
   "version": "3.6.5"
  }
 },
 "nbformat": 4,
 "nbformat_minor": 2
}
