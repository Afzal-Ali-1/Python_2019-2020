{
 "cells": [
  {
   "cell_type": "raw",
   "metadata": {},
   "source": [
    "Decorators are very powerful and useful tool in Python since it allows programmers to modify the behavior of function "
   ]
  },
  {
   "cell_type": "raw",
   "metadata": {},
   "source": [
    "Decorators allow us to wrap another function in order to extend the behavior of wrapped function, without permanently modifying it."
   ]
  },
  {
   "cell_type": "raw",
   "metadata": {},
   "source": [
    "In Decorators, functions are taken as the argument into another function and then called inside the wrapper function"
   ]
  },
  {
   "cell_type": "code",
   "execution_count": 1,
   "metadata": {},
   "outputs": [
    {
     "data": {
      "text/plain": [
       "5"
      ]
     },
     "execution_count": 1,
     "metadata": {},
     "output_type": "execute_result"
    }
   ],
   "source": [
    "def add(a,b):\n",
    "    return a+b\n",
    "add(2,3)"
   ]
  },
  {
   "cell_type": "code",
   "execution_count": 8,
   "metadata": {},
   "outputs": [],
   "source": [
    "a=add"
   ]
  },
  {
   "cell_type": "code",
   "execution_count": 10,
   "metadata": {},
   "outputs": [
    {
     "data": {
      "text/plain": [
       "7"
      ]
     },
     "execution_count": 10,
     "metadata": {},
     "output_type": "execute_result"
    }
   ],
   "source": [
    "a(3,4)"
   ]
  },
  {
   "cell_type": "code",
   "execution_count": 7,
   "metadata": {},
   "outputs": [
    {
     "ename": "TypeError",
     "evalue": "'int' object is not callable",
     "output_type": "error",
     "traceback": [
      "\u001b[1;31m---------------------------------------------------------------------------\u001b[0m",
      "\u001b[1;31mTypeError\u001b[0m                                 Traceback (most recent call last)",
      "\u001b[1;32m<ipython-input-7-999b881267d1>\u001b[0m in \u001b[0;36m<module>\u001b[1;34m()\u001b[0m\n\u001b[1;32m----> 1\u001b[1;33m \u001b[0ma\u001b[0m\u001b[1;33m(\u001b[0m\u001b[1;36m3\u001b[0m\u001b[1;33m,\u001b[0m\u001b[1;36m4\u001b[0m\u001b[1;33m)\u001b[0m\u001b[1;33m\u001b[0m\u001b[0m\n\u001b[0m",
      "\u001b[1;31mTypeError\u001b[0m: 'int' object is not callable"
     ]
    }
   ],
   "source": []
  },
  {
   "cell_type": "code",
   "execution_count": 12,
   "metadata": {},
   "outputs": [],
   "source": [
    "def uprint(sentence):\n",
    "    user_input=input(\"Enter your sentence : \")\n",
    "    return user_input"
   ]
  },
  {
   "cell_type": "code",
   "execution_count": 15,
   "metadata": {},
   "outputs": [
    {
     "name": "stdout",
     "output_type": "stream",
     "text": [
      "Enter your sentence : my name is afzal ali \n",
      "my name is afzal ali \n"
     ]
    }
   ],
   "source": []
  },
  {
   "cell_type": "code",
   "execution_count": 24,
   "metadata": {},
   "outputs": [
    {
     "name": "stdout",
     "output_type": "stream",
     "text": [
      "Enter your sentence :               Hi MY NAME is AFzal ALI\n",
      "              Hi MY NAME is AFzal ALI\n",
      "              HI MY NAME IS AFZAL ALI\n",
      "<function decor.<locals>.capitalize at 0x00000297BB444950>\n"
     ]
    }
   ],
   "source": [
    "user_input=input(\"Enter your sentence : \")\n",
    "print(user_input)\n",
    "def uprint():\n",
    "    return user_input.upper()\n",
    "s=uprint()\n",
    "print(s)\n",
    "def decor(func):#a,b,c,d-->its just an argument\n",
    "    data=func()\n",
    "    def capitalize():\n",
    "        return data.strip().lower().title()\n",
    "    return capitalize\n",
    "n=decor(uprint)\n",
    "print(n)"
   ]
  },
  {
   "cell_type": "code",
   "execution_count": 25,
   "metadata": {},
   "outputs": [
    {
     "data": {
      "text/plain": [
       "'Hi My Name Is Afzal Ali'"
      ]
     },
     "execution_count": 25,
     "metadata": {},
     "output_type": "execute_result"
    }
   ],
   "source": [
    "n()"
   ]
  },
  {
   "cell_type": "code",
   "execution_count": 28,
   "metadata": {},
   "outputs": [
    {
     "name": "stdout",
     "output_type": "stream",
     "text": [
      "Enter your sentence : sana\n",
      "sana\n",
      "Sana\n",
      "<function decor.<locals>.capitalize at 0x00000297BB4740D0>\n"
     ]
    }
   ],
   "source": [
    "user_input=input(\"Enter your sentence : \")\n",
    "print(user_input)\n",
    "def uprint():\n",
    "    return user_input.strip().lower().capitalize()\n",
    "s=uprint()\n",
    "print(s)\n",
    "def decor(func):#a,b,c,d-->its just an argument\n",
    "    data=func()\n",
    "    def capitalize():\n",
    "        return data.center(100,\"*\")\n",
    "    return capitalize\n",
    "n=decor(uprint)\n",
    "print(n)"
   ]
  },
  {
   "cell_type": "code",
   "execution_count": 29,
   "metadata": {},
   "outputs": [
    {
     "data": {
      "text/plain": [
       "'************************************************Sana************************************************'"
      ]
     },
     "execution_count": 29,
     "metadata": {},
     "output_type": "execute_result"
    }
   ],
   "source": [
    "n()"
   ]
  },
  {
   "cell_type": "code",
   "execution_count": 34,
   "metadata": {},
   "outputs": [
    {
     "name": "stdout",
     "output_type": "stream",
     "text": [
      "    A     f          Z  a     L   \n",
      "    A     f          Z  a     L   \n",
      "Afzal\n",
      "***********************************************Afzal************************************************\n"
     ]
    }
   ],
   "source": [
    "a=input()\n",
    "b=a.strip().split()\n",
    "d=\"\".join(b)\n",
    "d=d.capitalize()\n",
    "c=d.center(100,\"*\")\n",
    "print(a)\n",
    "print(d)\n",
    "print(c)"
   ]
  },
  {
   "cell_type": "code",
   "execution_count": null,
   "metadata": {},
   "outputs": [],
   "source": []
  }
 ],
 "metadata": {
  "kernelspec": {
   "display_name": "Python 3",
   "language": "python",
   "name": "python3"
  },
  "language_info": {
   "codemirror_mode": {
    "name": "ipython",
    "version": 3
   },
   "file_extension": ".py",
   "mimetype": "text/x-python",
   "name": "python",
   "nbconvert_exporter": "python",
   "pygments_lexer": "ipython3",
   "version": "3.6.5"
  }
 },
 "nbformat": 4,
 "nbformat_minor": 2
}
