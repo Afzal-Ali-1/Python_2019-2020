{
 "cells": [
  {
   "cell_type": "code",
   "execution_count": 1,
   "metadata": {},
   "outputs": [
    {
     "name": "stdout",
     "output_type": "stream",
     "text": [
      "-5\n"
     ]
    },
    {
     "data": {
      "text/plain": [
       "'\\nthe binary of 4 is 0100\\n-(0100+1)      0100\\n              +   1\\n              ------\\n               0101\\n-(0101) 0101 is the binary of 5\\nthen here -(5)\\nthe final answer is -5'"
      ]
     },
     "execution_count": 1,
     "metadata": {},
     "output_type": "execute_result"
    }
   ],
   "source": [
    "print(~4)\n",
    "\"\"\"\n",
    "the binary of 4 is 0100\n",
    "-(0100+1)      0100\n",
    "              +   1\n",
    "              ------\n",
    "               0101\n",
    "-(0101) 0101 is the binary of 5\n",
    "then here -(5)\n",
    "the final answer is -5\"\"\""
   ]
  },
  {
   "cell_type": "code",
   "execution_count": 2,
   "metadata": {},
   "outputs": [
    {
     "data": {
      "text/plain": [
       "'\\nsyntax\\n:::::--------\\nif condition:\\n    statements-1\\n    statements-2\\n    ------------\\n    ----------\\nelse:\\n    statemnets-1\\n    statements-2\\n    ----\\n    -----'"
      ]
     },
     "execution_count": 2,
     "metadata": {},
     "output_type": "execute_result"
    }
   ],
   "source": [
    "\"\"\"\n",
    "syntax\n",
    ":::::--------\n",
    "if condition:#expression\n",
    "    statements-1\n",
    "    statements-2\n",
    "    ------------\n",
    "    ----------\n",
    "else:\n",
    "    statemnets-1\n",
    "    statements-2\n",
    "    ----\n",
    "    -----\"\"\""
   ]
  },
  {
   "cell_type": "code",
   "execution_count": 3,
   "metadata": {},
   "outputs": [
    {
     "name": "stdout",
     "output_type": "stream",
     "text": [
      "Hello\n"
     ]
    }
   ],
   "source": [
    "if True:\n",
    "    print(\"Hello\")\n",
    "else:\n",
    "    print(\"Bye\")"
   ]
  },
  {
   "cell_type": "code",
   "execution_count": 4,
   "metadata": {},
   "outputs": [
    {
     "name": "stdout",
     "output_type": "stream",
     "text": [
      "bye\n"
     ]
    }
   ],
   "source": [
    "if False:\n",
    "    print(\"Hello\")\n",
    "else:\n",
    "    print(\"bye\")"
   ]
  },
  {
   "cell_type": "code",
   "execution_count": 5,
   "metadata": {},
   "outputs": [
    {
     "name": "stdout",
     "output_type": "stream",
     "text": [
      "Hi\n"
     ]
    }
   ],
   "source": [
    "if True:\n",
    "    print(\"Hi\")"
   ]
  },
  {
   "cell_type": "code",
   "execution_count": 6,
   "metadata": {},
   "outputs": [
    {
     "name": "stdout",
     "output_type": "stream",
     "text": [
      "Enter your age : 12\n",
      "You can not vote\n"
     ]
    }
   ],
   "source": [
    "#print()\n",
    "age=int(input(\"Enter your age : \"))\n",
    "if age>=18:\n",
    "    print(\"you can vote\")\n",
    "else:\n",
    "    print(\"You can not vote\")"
   ]
  },
  {
   "cell_type": "code",
   "execution_count": 8,
   "metadata": {},
   "outputs": [
    {
     "name": "stdout",
     "output_type": "stream",
     "text": [
      "Enter your age : 19\n",
      "you can vote\n"
     ]
    }
   ],
   "source": [
    "#print()\n",
    "age=int(input(\"Enter your age : \"))\n",
    "if age>=18:\n",
    "    print(\"you can vote\")\n",
    "else:\n",
    "    print(\"You can not vote\")"
   ]
  },
  {
   "cell_type": "code",
   "execution_count": 11,
   "metadata": {},
   "outputs": [
    {
     "name": "stdout",
     "output_type": "stream",
     "text": [
      "Enter your age : 54\n",
      "you can vote\n"
     ]
    }
   ],
   "source": [
    "#print()\n",
    "age=int(input(\"Enter your age : \"))\n",
    "if age>=18:\n",
    "    if age==18:\n",
    "        print(\"Heyy !! This is your first time\")\n",
    "    print(\"you can vote\")\n",
    "else:\n",
    "    print(\"You can not vote\")"
   ]
  },
  {
   "cell_type": "code",
   "execution_count": 14,
   "metadata": {},
   "outputs": [
    {
     "name": "stdout",
     "output_type": "stream",
     "text": [
      "How much money do you have ?500\n",
      "Ghar pe hi baeth the hai.\n"
     ]
    }
   ],
   "source": [
    "ask=int(input(\"How much money do you have ?\"))\n",
    "if ask>=1000:\n",
    "    print(\"Lets go for a movie\")\n",
    "elif ask>=800:\n",
    "    print(\"Lets go for a lunch\")\n",
    "else:\n",
    "    print(\"Ghar pe hi baeth the hai.\")"
   ]
  },
  {
   "cell_type": "code",
   "execution_count": 15,
   "metadata": {},
   "outputs": [],
   "source": [
    "#Give loan or not ?\n",
    "#ask for profession\n",
    "#if government then i will ask him/her for salary\n",
    "#greater 50000\n",
    "# you can take loan upto 1 lac\n",
    "#you can take loan upto 50,000\n",
    "#profession private -- you can not take loan"
   ]
  },
  {
   "cell_type": "code",
   "execution_count": 18,
   "metadata": {},
   "outputs": [
    {
     "name": "stdout",
     "output_type": "stream",
     "text": [
      "Enter your profession : \n",
      "1.government \n",
      "2.othersGOVERNMENT\n",
      "Hi How much is your salary?\n",
      "salary :12000\n",
      "You can take loan upto 50,000\n"
     ]
    }
   ],
   "source": [
    "profession=input(\"Enter your profession : \\n1.government \\n2.others\")\n",
    "profession=profession.strip().lower()\n",
    "if profession==\"government\":\n",
    "    print(\"Hi How much is your salary?\")\n",
    "    salary=int(input(\"salary :\"))\n",
    "    if salary>=50000:\n",
    "        print(\"Congrats ! you can take loan upto 1 lacs\")\n",
    "    else:\n",
    "        print(\"You can take loan upto 50,000\")\n",
    "else:\n",
    "    print(\"You can not take loan\")\n",
    "        "
   ]
  },
  {
   "cell_type": "code",
   "execution_count": 24,
   "metadata": {},
   "outputs": [
    {
     "name": "stdout",
     "output_type": "stream",
     "text": [
      "Enter your first number : 12\n",
      "Enter your second number : 16\n",
      "Enter your third number :  90\n",
      "90 is greater\n"
     ]
    }
   ],
   "source": [
    "#greatest among three numbers\n",
    "a=int(input(\"Enter your first number : \"))\n",
    "b=int(input(\"Enter your second number : \"))\n",
    "c=int(input(\"Enter your third number :  \"))\n",
    "if a>b:\n",
    "    if a>c:\n",
    "        print(f\"{a} is greater\")\n",
    "    else:\n",
    "        print(f\"{c} is greater\")\n",
    "elif b>c:\n",
    "    print(f\"{b} is greater\")\n",
    "else:\n",
    "    print(f\"{c} is greater\")\n"
   ]
  },
  {
   "cell_type": "code",
   "execution_count": 27,
   "metadata": {},
   "outputs": [
    {
     "name": "stdout",
     "output_type": "stream",
     "text": [
      "Enter your first number : 12\n",
      "Enter your second number : 13\n",
      "Enter your third number :  20\n",
      "20 is greater\n"
     ]
    }
   ],
   "source": [
    "a=int(input(\"Enter your first number : \"))\n",
    "b=int(input(\"Enter your second number : \"))\n",
    "c=int(input(\"Enter your third number :  \"))\n",
    "if a>b and a>c:\n",
    "    print(\"{} is greater\".format(a))\n",
    "elif b>c:\n",
    "    print(\"{} is greater\".format(b))\n",
    "else:\n",
    "    print(\"{} is greater\".format(c))"
   ]
  },
  {
   "cell_type": "code",
   "execution_count": 28,
   "metadata": {},
   "outputs": [
    {
     "data": {
      "text/plain": [
       "True"
      ]
     },
     "execution_count": 28,
     "metadata": {},
     "output_type": "execute_result"
    }
   ],
   "source": [
    "bool(\"string\")"
   ]
  },
  {
   "cell_type": "code",
   "execution_count": 29,
   "metadata": {},
   "outputs": [
    {
     "data": {
      "text/plain": [
       "False"
      ]
     },
     "execution_count": 29,
     "metadata": {},
     "output_type": "execute_result"
    }
   ],
   "source": [
    "bool(\"\")"
   ]
  },
  {
   "cell_type": "code",
   "execution_count": 30,
   "metadata": {},
   "outputs": [
    {
     "name": "stdout",
     "output_type": "stream",
     "text": [
      "True\n",
      "False\n",
      "True\n",
      "False\n",
      "True\n",
      "False\n",
      "True\n",
      "False\n",
      "True\n",
      "False\n"
     ]
    }
   ],
   "source": [
    "lis=[\"string\",\"\",123,0,[123],[],(1,23),(),{\"Key\":\"value\"},{}]\n",
    "for var in lis:\n",
    "    print(bool(var))"
   ]
  },
  {
   "cell_type": "code",
   "execution_count": 1,
   "metadata": {},
   "outputs": [
    {
     "name": "stdout",
     "output_type": "stream",
     "text": [
      "0\n",
      "Hi\n"
     ]
    }
   ],
   "source": [
    "if input():\n",
    "    print(\"Hi\")\n",
    "else:\n",
    "    print(\"hello\")"
   ]
  },
  {
   "cell_type": "code",
   "execution_count": 2,
   "metadata": {},
   "outputs": [
    {
     "name": "stdout",
     "output_type": "stream",
     "text": [
      "0\n",
      "hello\n"
     ]
    }
   ],
   "source": [
    "if int(input()):\n",
    "    print(\"Hi\")\n",
    "else:\n",
    "    print(\"hello\")"
   ]
  },
  {
   "cell_type": "code",
   "execution_count": 5,
   "metadata": {},
   "outputs": [
    {
     "name": "stdout",
     "output_type": "stream",
     "text": [
      "0\n",
      "Hi\n",
      "0\n"
     ]
    }
   ],
   "source": [
    "data=input()\n",
    "if data:\n",
    "    print(\"Hi\")\n",
    "else:\n",
    "    print(\"hello\")\n",
    "print(data)"
   ]
  },
  {
   "cell_type": "code",
   "execution_count": 4,
   "metadata": {},
   "outputs": [
    {
     "name": "stdout",
     "output_type": "stream",
     "text": [
      "0\n",
      "hello\n"
     ]
    }
   ],
   "source": [
    "data=int(input())\n",
    "if data:\n",
    "    print(\"Hi\")\n",
    "else:\n",
    "    print(\"hello\")"
   ]
  },
  {
   "cell_type": "code",
   "execution_count": 6,
   "metadata": {},
   "outputs": [
    {
     "name": "stdout",
     "output_type": "stream",
     "text": [
      "<class 'str'>\n"
     ]
    }
   ],
   "source": [
    "print(type(data))"
   ]
  },
  {
   "cell_type": "code",
   "execution_count": 7,
   "metadata": {},
   "outputs": [
    {
     "data": {
      "text/plain": [
       "True"
      ]
     },
     "execution_count": 7,
     "metadata": {},
     "output_type": "execute_result"
    }
   ],
   "source": [
    "bool(\"0\")"
   ]
  },
  {
   "cell_type": "code",
   "execution_count": 9,
   "metadata": {},
   "outputs": [
    {
     "name": "stdout",
     "output_type": "stream",
     "text": [
      "Enter your number : 0\n",
      "Number is positive\n"
     ]
    }
   ],
   "source": [
    "number=int(input(\"Enter your number : \"))\n",
    "if number<0:\n",
    "    print(\"Number is negative\")\n",
    "else:\n",
    "    print(\"Number is positive\")"
   ]
  },
  {
   "cell_type": "code",
   "execution_count": 12,
   "metadata": {},
   "outputs": [
    {
     "name": "stdout",
     "output_type": "stream",
     "text": [
      "Enter the number : 13\n",
      "This number is not divisible by 5 and 10 both\n"
     ]
    }
   ],
   "source": [
    "number=int(input(\"Enter the number : \"))\n",
    "if number%5==0 and number%11==0:\n",
    "    print(\"This number is divisible by 5 and 10 both\")\n",
    "else:\n",
    "    print(\"This number is not divisible by 5 and 10 both\")"
   ]
  },
  {
   "cell_type": "code",
   "execution_count": 13,
   "metadata": {},
   "outputs": [],
   "source": [
    "#statement if true else statement"
   ]
  },
  {
   "cell_type": "code",
   "execution_count": 14,
   "metadata": {},
   "outputs": [
    {
     "name": "stdout",
     "output_type": "stream",
     "text": [
      "Hi\n"
     ]
    }
   ],
   "source": [
    "print(\"Hi\") if True else print(\"bye\")"
   ]
  },
  {
   "cell_type": "code",
   "execution_count": 15,
   "metadata": {},
   "outputs": [
    {
     "name": "stdout",
     "output_type": "stream",
     "text": [
      "Bye\n"
     ]
    }
   ],
   "source": [
    "print(\"Hi\") if False else print(\"Bye\")"
   ]
  },
  {
   "cell_type": "code",
   "execution_count": 18,
   "metadata": {},
   "outputs": [
    {
     "name": "stdout",
     "output_type": "stream",
     "text": [
      "Enter your number :14\n",
      "Number is positive\n"
     ]
    }
   ],
   "source": [
    "number=int(input(\"Enter your number :\"))\n",
    "print(\"Number is negative\") if number<0 else print(\"Number is positive\")"
   ]
  },
  {
   "cell_type": "code",
   "execution_count": 21,
   "metadata": {},
   "outputs": [
    {
     "name": "stdout",
     "output_type": "stream",
     "text": [
      "Enter your number : 55\n",
      "Number is divisble by 5 and 11\n"
     ]
    }
   ],
   "source": [
    "number=int(input(\"Enter your number : \"))\n",
    "print(\"Number is divisble by 5 and 11\") if number%5==0 and number%11==0 else print(\"Number is not divisble by 5 and 11\")"
   ]
  },
  {
   "cell_type": "code",
   "execution_count": 23,
   "metadata": {},
   "outputs": [
    {
     "name": "stdout",
     "output_type": "stream",
     "text": [
      "Enter the number : 55\n",
      "121.0\n"
     ]
    }
   ],
   "source": [
    "number=int(input(\"Enter the number : \"))\n",
    "if number%5==0 and number%11==0:\n",
    "    another_number=number/5\n",
    "    another_number*=11\n",
    "    print(another_number)\n",
    "else:\n",
    "    print(\"This number is not divisible by 5 and 10 both\")"
   ]
  },
  {
   "cell_type": "code",
   "execution_count": 24,
   "metadata": {},
   "outputs": [
    {
     "ename": "ModuleNotFoundError",
     "evalue": "No module named 'excel2json'",
     "output_type": "error",
     "traceback": [
      "\u001b[1;31m---------------------------------------------------------------------------\u001b[0m",
      "\u001b[1;31mModuleNotFoundError\u001b[0m                       Traceback (most recent call last)",
      "\u001b[1;32m<ipython-input-24-27bdd6d0088c>\u001b[0m in \u001b[0;36m<module>\u001b[1;34m()\u001b[0m\n\u001b[1;32m----> 1\u001b[1;33m \u001b[1;32mimport\u001b[0m \u001b[0mexcel2json\u001b[0m\u001b[1;33m\u001b[0m\u001b[0m\n\u001b[0m",
      "\u001b[1;31mModuleNotFoundError\u001b[0m: No module named 'excel2json'"
     ]
    }
   ],
   "source": []
  },
  {
   "cell_type": "code",
   "execution_count": null,
   "metadata": {},
   "outputs": [],
   "source": []
  }
 ],
 "metadata": {
  "kernelspec": {
   "display_name": "Python 3",
   "language": "python",
   "name": "python3"
  },
  "language_info": {
   "codemirror_mode": {
    "name": "ipython",
    "version": 3
   },
   "file_extension": ".py",
   "mimetype": "text/x-python",
   "name": "python",
   "nbconvert_exporter": "python",
   "pygments_lexer": "ipython3",
   "version": "3.6.5"
  }
 },
 "nbformat": 4,
 "nbformat_minor": 2
}
