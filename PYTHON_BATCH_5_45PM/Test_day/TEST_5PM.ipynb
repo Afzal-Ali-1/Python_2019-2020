{
 "cells": [
  {
   "cell_type": "code",
   "execution_count": 1,
   "metadata": {},
   "outputs": [],
   "source": [
    "string=\"afzal nitesh sachin afzal nehal ajay alice sana sakshi sana sachin\""
   ]
  },
  {
   "cell_type": "code",
   "execution_count": null,
   "metadata": {},
   "outputs": [],
   "source": [
    "string=\"afzal nitesh sachin afzal nehal ajay alice sana sakshi sana sachin\"\n",
    "data = string.split()\n",
    "print(data)\n",
    "unique = set(data)\n",
    "print(data1)"
   ]
  },
  {
   "cell_type": "code",
   "execution_count": 2,
   "metadata": {},
   "outputs": [
    {
     "name": "stdout",
     "output_type": "stream",
     "text": [
      "a\n",
      "f\n",
      "z\n",
      "a\n",
      "l\n",
      " \n",
      "n\n",
      "i\n",
      "t\n",
      "e\n",
      "s\n",
      "h\n",
      " \n",
      "s\n",
      "a\n",
      "c\n",
      "h\n",
      "i\n",
      "n\n",
      " \n",
      "a\n",
      "f\n",
      "z\n",
      "a\n",
      "l\n",
      " \n",
      "n\n",
      "e\n",
      "h\n",
      "a\n",
      "l\n",
      " \n",
      "a\n",
      "j\n",
      "a\n",
      "y\n",
      " \n",
      "a\n",
      "l\n",
      "i\n",
      "c\n",
      "e\n",
      " \n",
      "s\n",
      "a\n",
      "n\n",
      "a\n",
      " \n",
      "s\n",
      "a\n",
      "k\n",
      "s\n",
      "h\n",
      "i\n",
      " \n",
      "s\n",
      "a\n",
      "n\n",
      "a\n",
      " \n",
      "s\n",
      "a\n",
      "c\n",
      "h\n",
      "i\n",
      "n\n"
     ]
    }
   ],
   "source": [
    "string=\"afzal nitesh sachin afzal nehal ajay alice sana sakshi sana sachin\"\n",
    "for var in string:\n",
    "    print(var)"
   ]
  },
  {
   "cell_type": "code",
   "execution_count": 4,
   "metadata": {},
   "outputs": [
    {
     "name": "stdout",
     "output_type": "stream",
     "text": [
      "['afzal', 'nitesh', 'sachin', 'afzal', 'nehal', 'ajay', 'alice', 'sana', 'sakshi', 'sana', 'sachin']\n",
      "{'nitesh', 'sakshi', 'ajay', 'sana', 'afzal', 'nehal', 'alice', 'sachin'}\n"
     ]
    }
   ],
   "source": [
    "string=\"afzal nitesh sachin afzal nehal ajay alice sana sakshi sana sachin\"\n",
    "data = string.split()\n",
    "print(data)\n",
    "unique = set(data)\n",
    "print(unique)"
   ]
  },
  {
   "cell_type": "code",
   "execution_count": 7,
   "metadata": {},
   "outputs": [
    {
     "name": "stdout",
     "output_type": "stream",
     "text": [
      "afzal\n",
      "nitesh\n",
      "sachin\n",
      "afzal\n",
      "nehal\n",
      "ajay\n",
      "alice\n",
      "sana\n",
      "sakshi\n",
      "sana\n",
      "sachin\n"
     ]
    }
   ],
   "source": [
    "for var in data:\n",
    "    print(var)"
   ]
  },
  {
   "cell_type": "code",
   "execution_count": 8,
   "metadata": {},
   "outputs": [
    {
     "name": "stdout",
     "output_type": "stream",
     "text": [
      "nitesh\n",
      "1\n",
      "sakshi\n",
      "1\n",
      "ajay\n",
      "1\n",
      "sana\n",
      "2\n",
      "afzal\n",
      "2\n",
      "nehal\n",
      "1\n",
      "alice\n",
      "1\n",
      "sachin\n",
      "2\n"
     ]
    }
   ],
   "source": [
    "for var in unique:\n",
    "    print(var)\n",
    "    print(data.count(var))"
   ]
  },
  {
   "cell_type": "code",
   "execution_count": 9,
   "metadata": {},
   "outputs": [
    {
     "data": {
      "text/plain": [
       "'\\n{nehal:10,afzal:20,nitesh:30,sana:10}'"
      ]
     },
     "execution_count": 9,
     "metadata": {},
     "output_type": "execute_result"
    }
   ],
   "source": [
    "string=\"\"\"nehal=10\n",
    "afzal=20\n",
    "nitesh=30\n",
    "sana=10\"\"\"\n",
    "\n",
    "\n",
    "\n",
    "#outupt\n",
    "\"\"\"\n",
    "{nehal:10,afzal:20,nitesh:30,sana:10}\"\"\""
   ]
  },
  {
   "cell_type": "code",
   "execution_count": 10,
   "metadata": {},
   "outputs": [
    {
     "name": "stdout",
     "output_type": "stream",
     "text": [
      "nehal=10\n",
      "afzal=20\n",
      "nitesh=30\n",
      "sana=10\n"
     ]
    }
   ],
   "source": [
    "print(string)"
   ]
  },
  {
   "cell_type": "code",
   "execution_count": 11,
   "metadata": {},
   "outputs": [],
   "source": [
    "string=string.split(\"\\n\")"
   ]
  },
  {
   "cell_type": "code",
   "execution_count": 12,
   "metadata": {},
   "outputs": [
    {
     "name": "stdout",
     "output_type": "stream",
     "text": [
      "['nehal=10', 'afzal=20', 'nitesh=30', 'sana=10']\n"
     ]
    }
   ],
   "source": [
    "print(string)"
   ]
  },
  {
   "cell_type": "code",
   "execution_count": 15,
   "metadata": {},
   "outputs": [],
   "source": [
    "an_str=[]\n",
    "for var in string:\n",
    "    an_str.append(var.split(\"=\"))"
   ]
  },
  {
   "cell_type": "code",
   "execution_count": 16,
   "metadata": {},
   "outputs": [
    {
     "data": {
      "text/plain": [
       "[['nehal', '10'], ['afzal', '20'], ['nitesh', '30'], ['sana', '10']]"
      ]
     },
     "execution_count": 16,
     "metadata": {},
     "output_type": "execute_result"
    }
   ],
   "source": [
    "an_str"
   ]
  },
  {
   "cell_type": "code",
   "execution_count": 17,
   "metadata": {},
   "outputs": [],
   "source": [
    "d={}\n",
    "for var1,var2 in an_str:\n",
    "    d.setdefault(var1,var2)"
   ]
  },
  {
   "cell_type": "code",
   "execution_count": 18,
   "metadata": {},
   "outputs": [
    {
     "data": {
      "text/plain": [
       "{'nehal': '10', 'afzal': '20', 'nitesh': '30', 'sana': '10'}"
      ]
     },
     "execution_count": 18,
     "metadata": {},
     "output_type": "execute_result"
    }
   ],
   "source": [
    "d"
   ]
  },
  {
   "cell_type": "code",
   "execution_count": 20,
   "metadata": {},
   "outputs": [
    {
     "name": "stdout",
     "output_type": "stream",
     "text": [
      "Entre the length of your array : 5\n",
      "Enter your number :69\n",
      "Enter your number :87\n",
      "Enter your number :41\n",
      "Enter your number :24\n",
      "Enter your number :23\n",
      "The largest element in the array is 87\n",
      "The Second largest element in the array is 69\n"
     ]
    }
   ],
   "source": [
    "#find second largest and the largest element in an array.\n",
    "user_input_length=int(input(\"Entre the length of your array : \"))\n",
    "empty_list=[]\n",
    "for var_1 in range(user_input_length):\n",
    "    user_input=int(input(\"Enter your number :\"))\n",
    "    empty_list.append(user_input)\n",
    "number_list=empty_list\n",
    "First=number_list[0]\n",
    "Second=number_list[0]\n",
    "for var in range(1,user_input_length):\n",
    "    if number_list[var]>First:\n",
    "        Second=First\n",
    "        First=number_list[var]\n",
    "    elif number_list[var]>Second and number_list[var]<First:\n",
    "        Second=number_list[var]\n",
    "    else:\n",
    "        pass\n",
    "print(f\"The largest element in the array is {First}\")\n",
    "print(f\"The Second largest element in the array is {Second}\")"
   ]
  },
  {
   "cell_type": "code",
   "execution_count": 21,
   "metadata": {},
   "outputs": [
    {
     "name": "stdout",
     "output_type": "stream",
     "text": [
      "Entre the length of your array : 5\n",
      "Enter your number :1\n",
      "Enter your number :4\n",
      "Enter your number :3\n",
      "Enter your number :2\n",
      "Enter your number :6\n"
     ]
    }
   ],
   "source": [
    "user_input_length=int(input(\"Entre the length of your array : \"))\n",
    "empty_list=[]\n",
    "for var_1 in range(user_input_length):\n",
    "    user_input=int(input(\"Enter your number :\"))\n",
    "    empty_list.append(user_input)"
   ]
  },
  {
   "cell_type": "code",
   "execution_count": 22,
   "metadata": {},
   "outputs": [
    {
     "name": "stdout",
     "output_type": "stream",
     "text": [
      "[1, 4, 3, 2, 6]\n"
     ]
    }
   ],
   "source": [
    "print(empty_list)"
   ]
  },
  {
   "cell_type": "code",
   "execution_count": 23,
   "metadata": {},
   "outputs": [],
   "source": [
    "number_list=empty_list\n",
    "First=number_list[0]#1\n",
    "Second=number_list[0]#1"
   ]
  },
  {
   "cell_type": "code",
   "execution_count": 24,
   "metadata": {},
   "outputs": [
    {
     "name": "stdout",
     "output_type": "stream",
     "text": [
      "2383841883656\n",
      "2383841883656\n"
     ]
    }
   ],
   "source": [
    "print(id(number_list))\n",
    "print(id(empty_list))"
   ]
  },
  {
   "cell_type": "code",
   "execution_count": 25,
   "metadata": {},
   "outputs": [
    {
     "data": {
      "text/plain": [
       "True"
      ]
     },
     "execution_count": 25,
     "metadata": {},
     "output_type": "execute_result"
    }
   ],
   "source": [
    "number_list is empty_list"
   ]
  },
  {
   "cell_type": "code",
   "execution_count": 26,
   "metadata": {},
   "outputs": [
    {
     "name": "stdout",
     "output_type": "stream",
     "text": [
      "The largest element in the array is 6\n",
      "The Second largest element in the array is 4\n"
     ]
    }
   ],
   "source": [
    "for var in range(1,user_input_length):#1 2 3 4        data= [1, 4, 3, 2, 6]\n",
    "    if number_list[var]>First:#var=1\n",
    "        Second=First\n",
    "        First=number_list[var]\n",
    "    elif number_list[var]>Second and number_list[var]<First:\n",
    "        Second=number_list[var]\n",
    "    else:\n",
    "        pass\n",
    "print(f\"The largest element in the array is {First}\")\n",
    "print(f\"The Second largest element in the array is {Second}\")"
   ]
  },
  {
   "cell_type": "code",
   "execution_count": null,
   "metadata": {},
   "outputs": [],
   "source": []
  }
 ],
 "metadata": {
  "kernelspec": {
   "display_name": "Python 3",
   "language": "python",
   "name": "python3"
  },
  "language_info": {
   "codemirror_mode": {
    "name": "ipython",
    "version": 3
   },
   "file_extension": ".py",
   "mimetype": "text/x-python",
   "name": "python",
   "nbconvert_exporter": "python",
   "pygments_lexer": "ipython3",
   "version": "3.6.5"
  }
 },
 "nbformat": 4,
 "nbformat_minor": 2
}
