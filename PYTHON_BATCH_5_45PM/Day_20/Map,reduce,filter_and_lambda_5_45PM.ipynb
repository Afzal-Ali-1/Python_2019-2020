{
 "cells": [
  {
   "cell_type": "markdown",
   "metadata": {},
   "source": [
    "# Filter"
   ]
  },
  {
   "cell_type": "markdown",
   "metadata": {},
   "source": [
    "* filter is a built in function which we use to filter our data \n",
    "    by using testing each elements in the iterable weather it is true or not"
   ]
  },
  {
   "cell_type": "markdown",
   "metadata": {},
   "source": [
    "* filter(function_name,iterable)"
   ]
  },
  {
   "cell_type": "markdown",
   "metadata": {},
   "source": [
    "* it will return an filtered object ,which can be converted in list ,tuple etc by using list(),tuple()"
   ]
  },
  {
   "cell_type": "code",
   "execution_count": 1,
   "metadata": {},
   "outputs": [],
   "source": [
    "student=[\"Alice\",\"Bob\",\"\",\"smith\",\"afzal\",\"\",\"\",\"sudha\",\"sachin\",\"\"]"
   ]
  },
  {
   "cell_type": "code",
   "execution_count": 9,
   "metadata": {},
   "outputs": [],
   "source": [
    "file=open(\"student.txt\")"
   ]
  },
  {
   "cell_type": "code",
   "execution_count": 10,
   "metadata": {},
   "outputs": [],
   "source": [
    "data=file.read()"
   ]
  },
  {
   "cell_type": "code",
   "execution_count": 11,
   "metadata": {},
   "outputs": [
    {
     "name": "stdout",
     "output_type": "stream",
     "text": [
      "alice\n",
      "bob\n",
      "\n",
      "jhon\n",
      "smith\n",
      "\n",
      "sachin\n",
      "\n",
      "afzal\n",
      "\n",
      "ajay\n",
      "sudha\n",
      "sana\n",
      "\n",
      "sakshi\n"
     ]
    }
   ],
   "source": [
    "print(data)"
   ]
  },
  {
   "cell_type": "code",
   "execution_count": 12,
   "metadata": {},
   "outputs": [],
   "source": [
    "data=data.split(\"\\n\")"
   ]
  },
  {
   "cell_type": "code",
   "execution_count": 13,
   "metadata": {},
   "outputs": [
    {
     "name": "stdout",
     "output_type": "stream",
     "text": [
      "['alice', 'bob', '', 'jhon', 'smith', '', 'sachin', '', 'afzal', '', 'ajay', 'sudha', 'sana', '', 'sakshi']\n"
     ]
    }
   ],
   "source": [
    "print(data)"
   ]
  },
  {
   "cell_type": "code",
   "execution_count": 14,
   "metadata": {},
   "outputs": [],
   "source": [
    "an_lis=[]\n",
    "for var in data:\n",
    "    if var:\n",
    "        an_lis.append(var)\n",
    "    else:\n",
    "        pass"
   ]
  },
  {
   "cell_type": "code",
   "execution_count": 15,
   "metadata": {},
   "outputs": [
    {
     "name": "stdout",
     "output_type": "stream",
     "text": [
      "['alice', 'bob', 'jhon', 'smith', 'sachin', 'afzal', 'ajay', 'sudha', 'sana', 'sakshi']\n"
     ]
    }
   ],
   "source": [
    "print(an_lis)"
   ]
  },
  {
   "cell_type": "code",
   "execution_count": 17,
   "metadata": {},
   "outputs": [],
   "source": [
    "an_lis=list(filter(lambda arg : arg,data))"
   ]
  },
  {
   "cell_type": "code",
   "execution_count": 18,
   "metadata": {},
   "outputs": [
    {
     "name": "stdout",
     "output_type": "stream",
     "text": [
      "['alice', 'bob', 'jhon', 'smith', 'sachin', 'afzal', 'ajay', 'sudha', 'sana', 'sakshi']\n"
     ]
    }
   ],
   "source": [
    "print(an_lis)"
   ]
  },
  {
   "cell_type": "code",
   "execution_count": 19,
   "metadata": {},
   "outputs": [
    {
     "data": {
      "text/plain": [
       "True"
      ]
     },
     "execution_count": 19,
     "metadata": {},
     "output_type": "execute_result"
    }
   ],
   "source": [
    "bool(\"alice\")"
   ]
  },
  {
   "cell_type": "code",
   "execution_count": 20,
   "metadata": {},
   "outputs": [
    {
     "data": {
      "text/plain": [
       "False"
      ]
     },
     "execution_count": 20,
     "metadata": {},
     "output_type": "execute_result"
    }
   ],
   "source": [
    "bool(\"\")"
   ]
  },
  {
   "cell_type": "code",
   "execution_count": 21,
   "metadata": {},
   "outputs": [],
   "source": [
    "file.close()"
   ]
  },
  {
   "cell_type": "code",
   "execution_count": 22,
   "metadata": {},
   "outputs": [],
   "source": [
    "file=open(\"essay.txt\")"
   ]
  },
  {
   "cell_type": "code",
   "execution_count": 23,
   "metadata": {},
   "outputs": [],
   "source": [
    "data=file.read()"
   ]
  },
  {
   "cell_type": "code",
   "execution_count": 24,
   "metadata": {},
   "outputs": [
    {
     "name": "stdout",
     "output_type": "stream",
     "text": [
      "Airplanes come in a variety of shapes sizes, and also their wing configurations are also in different forms these airplanes are also used for the transportation of goods.\n",
      "\n",
      "Many Big Loads of goods that are being transported from one country to the other country within this airplanes as it can take the huge amount of weight within it.\n",
      "\n",
      "An airplane is a huge vehicle that is made for the transport of many passengers within a time as there are many seeds that are being available in the airplane for the people and this airplane are being flown by a pilot, but sometimes some airplanes are designed to be remotely or computer controlled.\n",
      "\n",
      "There are many airplanes that have been invented for the transportation and also for the loading of goods from one country to the another.\n"
     ]
    }
   ],
   "source": [
    "print(data)"
   ]
  },
  {
   "cell_type": "code",
   "execution_count": 25,
   "metadata": {},
   "outputs": [
    {
     "name": "stdout",
     "output_type": "stream",
     "text": [
      "<class 'str'>\n"
     ]
    }
   ],
   "source": [
    "print(type(data))"
   ]
  },
  {
   "cell_type": "code",
   "execution_count": 26,
   "metadata": {},
   "outputs": [],
   "source": [
    "data=data.split()"
   ]
  },
  {
   "cell_type": "code",
   "execution_count": 28,
   "metadata": {},
   "outputs": [
    {
     "name": "stdout",
     "output_type": "stream",
     "text": [
      "['Airplanes', 'come', 'in', 'a', 'variety', 'of', 'shapes', 'sizes,', 'and', 'also', 'their', 'wing', 'configurations', 'are', 'also', 'in', 'different', 'forms', 'these', 'airplanes', 'are', 'also', 'used', 'for', 'the', 'transportation', 'of', 'goods.', 'Many', 'Big', 'Loads', 'of', 'goods', 'that', 'are', 'being', 'transported', 'from', 'one', 'country', 'to', 'the', 'other', 'country', 'within', 'this', 'airplanes', 'as', 'it', 'can', 'take', 'the', 'huge', 'amount', 'of', 'weight', 'within', 'it.', 'An', 'airplane', 'is', 'a', 'huge', 'vehicle', 'that', 'is', 'made', 'for', 'the', 'transport', 'of', 'many', 'passengers', 'within', 'a', 'time', 'as', 'there', 'are', 'many', 'seeds', 'that', 'are', 'being', 'available', 'in', 'the', 'airplane', 'for', 'the', 'people', 'and', 'this', 'airplane', 'are', 'being', 'flown', 'by', 'a', 'pilot,', 'but', 'sometimes', 'some', 'airplanes', 'are', 'designed', 'to', 'be', 'remotely', 'or', 'computer', 'controlled.', 'There', 'are', 'many', 'airplanes', 'that', 'have', 'been', 'invented', 'for', 'the', 'transportation', 'and', 'also', 'for', 'the', 'loading', 'of', 'goods', 'from', 'one', 'country', 'to', 'the', 'another.']\n"
     ]
    }
   ],
   "source": [
    "print(data)"
   ]
  },
  {
   "cell_type": "code",
   "execution_count": 29,
   "metadata": {},
   "outputs": [
    {
     "ename": "TypeError",
     "evalue": "'in <string>' requires string as left operand, not list",
     "output_type": "error",
     "traceback": [
      "\u001b[1;31m---------------------------------------------------------------------------\u001b[0m",
      "\u001b[1;31mTypeError\u001b[0m                                 Traceback (most recent call last)",
      "\u001b[1;32m<ipython-input-29-27415da49192>\u001b[0m in \u001b[0;36m<module>\u001b[1;34m()\u001b[0m\n\u001b[1;32m----> 1\u001b[1;33m \u001b[1;33m[\u001b[0m\u001b[1;34m\"a\"\u001b[0m\u001b[1;33m,\u001b[0m\u001b[1;34m\"e\"\u001b[0m\u001b[1;33m,\u001b[0m\u001b[1;34m\"i\"\u001b[0m\u001b[1;33m,\u001b[0m\u001b[1;34m\"o\"\u001b[0m\u001b[1;33m,\u001b[0m\u001b[1;34m\"u\"\u001b[0m\u001b[1;33m]\u001b[0m \u001b[1;32min\u001b[0m \u001b[1;34m\"String\"\u001b[0m\u001b[1;33m\u001b[0m\u001b[0m\n\u001b[0m",
      "\u001b[1;31mTypeError\u001b[0m: 'in <string>' requires string as left operand, not list"
     ]
    }
   ],
   "source": [
    "[\"a\",\"e\",\"i\",\"o\",\"u\"] in \"String\""
   ]
  },
  {
   "cell_type": "code",
   "execution_count": 30,
   "metadata": {},
   "outputs": [
    {
     "data": {
      "text/plain": [
       "False"
      ]
     },
     "execution_count": 30,
     "metadata": {},
     "output_type": "execute_result"
    }
   ],
   "source": [
    "\"string\" in [\"a\",\"e\",\"i\",\"o\",\"u\"]"
   ]
  },
  {
   "cell_type": "code",
   "execution_count": 31,
   "metadata": {},
   "outputs": [
    {
     "name": "stdout",
     "output_type": "stream",
     "text": [
      "Airplanes\n",
      "come\n",
      "in\n",
      "a\n",
      "variety\n",
      "of\n",
      "shapes\n",
      "sizes,\n",
      "and\n",
      "also\n",
      "their\n",
      "wing\n",
      "configurations\n",
      "are\n",
      "also\n",
      "in\n",
      "different\n",
      "forms\n",
      "these\n",
      "airplanes\n",
      "are\n",
      "also\n",
      "used\n",
      "for\n",
      "the\n",
      "transportation\n",
      "of\n",
      "goods.\n",
      "Many\n",
      "Big\n",
      "Loads\n",
      "of\n",
      "goods\n",
      "that\n",
      "are\n",
      "being\n",
      "transported\n",
      "from\n",
      "one\n",
      "country\n",
      "to\n",
      "the\n",
      "other\n",
      "country\n",
      "within\n",
      "this\n",
      "airplanes\n",
      "as\n",
      "it\n",
      "can\n",
      "take\n",
      "the\n",
      "huge\n",
      "amount\n",
      "of\n",
      "weight\n",
      "within\n",
      "it.\n",
      "An\n",
      "airplane\n",
      "is\n",
      "a\n",
      "huge\n",
      "vehicle\n",
      "that\n",
      "is\n",
      "made\n",
      "for\n",
      "the\n",
      "transport\n",
      "of\n",
      "many\n",
      "passengers\n",
      "within\n",
      "a\n",
      "time\n",
      "as\n",
      "there\n",
      "are\n",
      "many\n",
      "seeds\n",
      "that\n",
      "are\n",
      "being\n",
      "available\n",
      "in\n",
      "the\n",
      "airplane\n",
      "for\n",
      "the\n",
      "people\n",
      "and\n",
      "this\n",
      "airplane\n",
      "are\n",
      "being\n",
      "flown\n",
      "by\n",
      "a\n",
      "pilot,\n",
      "but\n",
      "sometimes\n",
      "some\n",
      "airplanes\n",
      "are\n",
      "designed\n",
      "to\n",
      "be\n",
      "remotely\n",
      "or\n",
      "computer\n",
      "controlled.\n",
      "There\n",
      "are\n",
      "many\n",
      "airplanes\n",
      "that\n",
      "have\n",
      "been\n",
      "invented\n",
      "for\n",
      "the\n",
      "transportation\n",
      "and\n",
      "also\n",
      "for\n",
      "the\n",
      "loading\n",
      "of\n",
      "goods\n",
      "from\n",
      "one\n",
      "country\n",
      "to\n",
      "the\n",
      "another.\n"
     ]
    }
   ],
   "source": [
    "for var in data:\n",
    "    print(var)"
   ]
  },
  {
   "cell_type": "code",
   "execution_count": 36,
   "metadata": {},
   "outputs": [],
   "source": [
    "lis=[]\n",
    "for var in data:\n",
    "    for var2 in var:\n",
    "        if var2.lower() in [\"a\",\"e\",\"i\",\"o\",\"u\"]:\n",
    "            break\n",
    "    else:\n",
    "        lis.append(var)"
   ]
  },
  {
   "cell_type": "code",
   "execution_count": 37,
   "metadata": {},
   "outputs": [
    {
     "data": {
      "text/plain": [
       "['by']"
      ]
     },
     "execution_count": 37,
     "metadata": {},
     "output_type": "execute_result"
    }
   ],
   "source": [
    "lis"
   ]
  },
  {
   "cell_type": "code",
   "execution_count": 44,
   "metadata": {},
   "outputs": [],
   "source": [
    "def words(word):\n",
    "    for var in word:\n",
    "        if var.lower() in [\"a\",\"e\",\"i\",\"o\",\"u\"]:\n",
    "            return False\n",
    "    else:\n",
    "        return True"
   ]
  },
  {
   "cell_type": "code",
   "execution_count": 45,
   "metadata": {},
   "outputs": [],
   "source": [
    "lis=list(filter(words,data))"
   ]
  },
  {
   "cell_type": "code",
   "execution_count": 46,
   "metadata": {},
   "outputs": [
    {
     "data": {
      "text/plain": [
       "['by']"
      ]
     },
     "execution_count": 46,
     "metadata": {},
     "output_type": "execute_result"
    }
   ],
   "source": [
    "lis"
   ]
  },
  {
   "cell_type": "code",
   "execution_count": 47,
   "metadata": {},
   "outputs": [
    {
     "name": "stdout",
     "output_type": "stream",
     "text": [
      "['Airplanes', 'come', 'in', 'a', 'variety', 'of', 'shapes', 'sizes,', 'and', 'also', 'their', 'wing', 'configurations', 'are', 'also', 'in', 'different', 'forms', 'these', 'airplanes', 'are', 'also', 'used', 'for', 'the', 'transportation', 'of', 'goods.', 'Many', 'Big', 'Loads', 'of', 'goods', 'that', 'are', 'being', 'transported', 'from', 'one', 'country', 'to', 'the', 'other', 'country', 'within', 'this', 'airplanes', 'as', 'it', 'can', 'take', 'the', 'huge', 'amount', 'of', 'weight', 'within', 'it.', 'An', 'airplane', 'is', 'a', 'huge', 'vehicle', 'that', 'is', 'made', 'for', 'the', 'transport', 'of', 'many', 'passengers', 'within', 'a', 'time', 'as', 'there', 'are', 'many', 'seeds', 'that', 'are', 'being', 'available', 'in', 'the', 'airplane', 'for', 'the', 'people', 'and', 'this', 'airplane', 'are', 'being', 'flown', 'by', 'a', 'pilot,', 'but', 'sometimes', 'some', 'airplanes', 'are', 'designed', 'to', 'be', 'remotely', 'or', 'computer', 'controlled.', 'There', 'are', 'many', 'airplanes', 'that', 'have', 'been', 'invented', 'for', 'the', 'transportation', 'and', 'also', 'for', 'the', 'loading', 'of', 'goods', 'from', 'one', 'country', 'to', 'the', 'another.']\n"
     ]
    }
   ],
   "source": [
    "print(data)"
   ]
  },
  {
   "cell_type": "code",
   "execution_count": 49,
   "metadata": {},
   "outputs": [
    {
     "name": "stdout",
     "output_type": "stream",
     "text": [
      "[2, 4, 6, 8, 10, 12, 14, 16, 18, 20, 22, 24, 26, 28, 30, 32, 34, 36, 38, 40, 42, 44, 46, 48, 50, 52, 54, 56, 58, 60, 62, 64, 66, 68, 70, 72, 74, 76, 78, 80, 82, 84, 86, 88, 90, 92, 94, 96, 98]\n"
     ]
    }
   ],
   "source": [
    "lis=[var for var in range(1,100)]\n",
    "an_lis=list(filter(lambda number : number%2==0,lis))\n",
    "print(an_lis)"
   ]
  },
  {
   "cell_type": "code",
   "execution_count": 50,
   "metadata": {},
   "outputs": [],
   "source": [
    "#235-899"
   ]
  },
  {
   "cell_type": "code",
   "execution_count": 59,
   "metadata": {},
   "outputs": [],
   "source": [
    "import builtins"
   ]
  },
  {
   "cell_type": "code",
   "execution_count": 65,
   "metadata": {},
   "outputs": [],
   "source": [
    "functions=list(dir(builtins))"
   ]
  },
  {
   "cell_type": "code",
   "execution_count": 66,
   "metadata": {},
   "outputs": [],
   "source": [
    "error=[]\n",
    "warning=[]\n",
    "b_fucn=[]\n",
    "special=[]\n",
    "for var in functions:\n",
    "    if var.find(\"Error\")>1:\n",
    "        error.append(var)\n",
    "    elif var.find(\"Warning\")>1:\n",
    "        warning.append(var)\n",
    "    elif var[0:2]==\"__\":\n",
    "        special.append(var)\n",
    "    else:\n",
    "        b_fucn.append(var)"
   ]
  },
  {
   "cell_type": "code",
   "execution_count": 67,
   "metadata": {},
   "outputs": [
    {
     "data": {
      "text/plain": [
       "['BaseException',\n",
       " 'Ellipsis',\n",
       " 'Exception',\n",
       " 'False',\n",
       " 'GeneratorExit',\n",
       " 'KeyboardInterrupt',\n",
       " 'None',\n",
       " 'NotImplemented',\n",
       " 'StopAsyncIteration',\n",
       " 'StopIteration',\n",
       " 'SystemExit',\n",
       " 'True',\n",
       " 'Warning',\n",
       " 'abs',\n",
       " 'all',\n",
       " 'any',\n",
       " 'ascii',\n",
       " 'bin',\n",
       " 'bool',\n",
       " 'bytearray',\n",
       " 'bytes',\n",
       " 'callable',\n",
       " 'chr',\n",
       " 'classmethod',\n",
       " 'compile',\n",
       " 'complex',\n",
       " 'copyright',\n",
       " 'credits',\n",
       " 'delattr',\n",
       " 'dict',\n",
       " 'dir',\n",
       " 'display',\n",
       " 'divmod',\n",
       " 'enumerate',\n",
       " 'eval',\n",
       " 'exec',\n",
       " 'filter',\n",
       " 'float',\n",
       " 'format',\n",
       " 'frozenset',\n",
       " 'get_ipython',\n",
       " 'getattr',\n",
       " 'globals',\n",
       " 'hasattr',\n",
       " 'hash',\n",
       " 'help',\n",
       " 'hex',\n",
       " 'id',\n",
       " 'input',\n",
       " 'int',\n",
       " 'isinstance',\n",
       " 'issubclass',\n",
       " 'iter',\n",
       " 'len',\n",
       " 'license',\n",
       " 'list',\n",
       " 'locals',\n",
       " 'map',\n",
       " 'max',\n",
       " 'memoryview',\n",
       " 'min',\n",
       " 'next',\n",
       " 'object',\n",
       " 'oct',\n",
       " 'open',\n",
       " 'ord',\n",
       " 'pow',\n",
       " 'print',\n",
       " 'property',\n",
       " 'range',\n",
       " 'repr',\n",
       " 'reversed',\n",
       " 'round',\n",
       " 'set',\n",
       " 'setattr',\n",
       " 'slice',\n",
       " 'sorted',\n",
       " 'staticmethod',\n",
       " 'str',\n",
       " 'sum',\n",
       " 'super',\n",
       " 'tuple',\n",
       " 'type',\n",
       " 'vars',\n",
       " 'zip']"
      ]
     },
     "execution_count": 67,
     "metadata": {},
     "output_type": "execute_result"
    }
   ],
   "source": [
    "b_fucn"
   ]
  },
  {
   "cell_type": "code",
   "execution_count": 69,
   "metadata": {},
   "outputs": [
    {
     "data": {
      "text/plain": [
       "True"
      ]
     },
     "execution_count": 69,
     "metadata": {},
     "output_type": "execute_result"
    }
   ],
   "source": [
    "\"filter\" in b_fucn"
   ]
  },
  {
   "cell_type": "code",
   "execution_count": 70,
   "metadata": {},
   "outputs": [
    {
     "data": {
      "text/plain": [
       "True"
      ]
     },
     "execution_count": 70,
     "metadata": {},
     "output_type": "execute_result"
    }
   ],
   "source": [
    "\"map\" in b_fucn"
   ]
  },
  {
   "cell_type": "code",
   "execution_count": 71,
   "metadata": {},
   "outputs": [
    {
     "data": {
      "text/plain": [
       "False"
      ]
     },
     "execution_count": 71,
     "metadata": {},
     "output_type": "execute_result"
    }
   ],
   "source": [
    "\"reduce\" in b_fucn"
   ]
  },
  {
   "cell_type": "code",
   "execution_count": 72,
   "metadata": {},
   "outputs": [],
   "source": [
    "import functools"
   ]
  },
  {
   "cell_type": "code",
   "execution_count": 73,
   "metadata": {},
   "outputs": [
    {
     "name": "stdout",
     "output_type": "stream",
     "text": [
      "['MappingProxyType', 'RLock', 'WRAPPER_ASSIGNMENTS', 'WRAPPER_UPDATES', 'WeakKeyDictionary', '_CacheInfo', '_HashedSeq', '__all__', '__builtins__', '__cached__', '__doc__', '__file__', '__loader__', '__name__', '__package__', '__spec__', '_c3_merge', '_c3_mro', '_compose_mro', '_convert', '_find_impl', '_ge_from_gt', '_ge_from_le', '_ge_from_lt', '_gt_from_ge', '_gt_from_le', '_gt_from_lt', '_le_from_ge', '_le_from_gt', '_le_from_lt', '_lru_cache_wrapper', '_lt_from_ge', '_lt_from_gt', '_lt_from_le', '_make_key', 'cmp_to_key', 'get_cache_token', 'lru_cache', 'namedtuple', 'partial', 'partialmethod', 'recursive_repr', 'reduce', 'singledispatch', 'total_ordering', 'update_wrapper', 'wraps']\n"
     ]
    }
   ],
   "source": [
    "print(dir(functools))"
   ]
  },
  {
   "cell_type": "markdown",
   "metadata": {},
   "source": [
    "# Reduce"
   ]
  },
  {
   "cell_type": "markdown",
   "metadata": {},
   "source": [
    "* reduce function is use to apply a specific function passed in its parameter to all the iterable items\n",
    "* reduce(function_name,iterable)"
   ]
  },
  {
   "cell_type": "code",
   "execution_count": 74,
   "metadata": {},
   "outputs": [],
   "source": [
    "from functools import reduce"
   ]
  },
  {
   "cell_type": "code",
   "execution_count": 77,
   "metadata": {},
   "outputs": [],
   "source": [
    "lis=[1,2,3,4,5]\n",
    "def add(a,b):\n",
    "    return a+b"
   ]
  },
  {
   "cell_type": "code",
   "execution_count": 80,
   "metadata": {},
   "outputs": [
    {
     "data": {
      "text/plain": [
       "15"
      ]
     },
     "execution_count": 80,
     "metadata": {},
     "output_type": "execute_result"
    }
   ],
   "source": [
    "reduce(add,lis) # it will return final result"
   ]
  },
  {
   "cell_type": "code",
   "execution_count": null,
   "metadata": {},
   "outputs": [],
   "source": []
  }
 ],
 "metadata": {
  "kernelspec": {
   "display_name": "Python 3",
   "language": "python",
   "name": "python3"
  },
  "language_info": {
   "codemirror_mode": {
    "name": "ipython",
    "version": 3
   },
   "file_extension": ".py",
   "mimetype": "text/x-python",
   "name": "python",
   "nbconvert_exporter": "python",
   "pygments_lexer": "ipython3",
   "version": "3.6.5"
  }
 },
 "nbformat": 4,
 "nbformat_minor": 2
}
