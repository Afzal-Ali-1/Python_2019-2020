{
 "cells": [
  {
   "cell_type": "code",
   "execution_count": 1,
   "metadata": {},
   "outputs": [
    {
     "name": "stdout",
     "output_type": "stream",
     "text": [
      "['Alice', 'Bob', 'Jhon', 'Sakshi', 'Afzal', 'Piyush']\n",
      "3\n",
      "3\n",
      "['Alice', 'Bob', 'Jhon', 'Sakshi', 'Afzal', 'Piyush']\n"
     ]
    }
   ],
   "source": [
    "student=[\"Alice\",\"Bob\",\"Jhon\",\"Sakshi\",\"Afzal\",\"Piyush\"]\n",
    "print(student)\n",
    "counter=0\n",
    "for var in student:\n",
    "    if var==\"Sakshi\":\n",
    "        print(counter)\n",
    "        break\n",
    "    else:\n",
    "        counter=counter+1\n",
    "print(counter)\n",
    "print(student)"
   ]
  },
  {
   "cell_type": "code",
   "execution_count": 2,
   "metadata": {},
   "outputs": [
    {
     "data": {
      "text/plain": [
       "'Sakshi'"
      ]
     },
     "execution_count": 2,
     "metadata": {},
     "output_type": "execute_result"
    }
   ],
   "source": [
    "student.pop(counter)"
   ]
  },
  {
   "cell_type": "code",
   "execution_count": 3,
   "metadata": {},
   "outputs": [
    {
     "name": "stdout",
     "output_type": "stream",
     "text": [
      "['Alice', 'Bob', 'Jhon', 'Afzal', 'Piyush']\n"
     ]
    }
   ],
   "source": [
    "print(student)"
   ]
  },
  {
   "cell_type": "code",
   "execution_count": null,
   "metadata": {},
   "outputs": [],
   "source": []
  }
 ],
 "metadata": {
  "kernelspec": {
   "display_name": "Python 3",
   "language": "python",
   "name": "python3"
  },
  "language_info": {
   "codemirror_mode": {
    "name": "ipython",
    "version": 3
   },
   "file_extension": ".py",
   "mimetype": "text/x-python",
   "name": "python",
   "nbconvert_exporter": "python",
   "pygments_lexer": "ipython3",
   "version": "3.6.5"
  }
 },
 "nbformat": 4,
 "nbformat_minor": 2
}
