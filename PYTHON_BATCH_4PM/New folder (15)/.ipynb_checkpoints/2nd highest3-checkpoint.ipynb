{
 "cells": [
  {
   "cell_type": "code",
   "execution_count": 1,
   "metadata": {},
   "outputs": [
    {
     "name": "stdout",
     "output_type": "stream",
     "text": [
      "Entre the length of your array : 6\n",
      "Enter your number :1\n",
      "Enter your number :2\n",
      "Enter your number :3\n",
      "Enter your number :4\n",
      "Enter your number :5\n",
      "Enter your number :6\n"
     ]
    }
   ],
   "source": [
    "user_input_length=int(input(\"Entre the length of your array : \"))\n",
    "empty_list=[]\n",
    "for var_1 in range(user_input_length):\n",
    "    user_input=int(input(\"Enter your number :\"))\n",
    "    empty_list.append(user_input)"
   ]
  },
  {
   "cell_type": "code",
   "execution_count": 2,
   "metadata": {},
   "outputs": [
    {
     "data": {
      "text/plain": [
       "[1, 2, 3, 4, 5, 6]"
      ]
     },
     "execution_count": 2,
     "metadata": {},
     "output_type": "execute_result"
    }
   ],
   "source": [
    "empty_list"
   ]
  },
  {
   "cell_type": "code",
   "execution_count": 1,
   "metadata": {},
   "outputs": [
    {
     "name": "stdout",
     "output_type": "stream",
     "text": [
      "Entre the length of your array : 5\n",
      "Enter your number :1\n",
      "Enter your number :2\n",
      "Enter your number :3\n",
      "Enter your number :4\n",
      "Enter your number :5\n",
      "The largest element in the array is 5\n",
      "The Second largest element in the array is 4\n"
     ]
    }
   ],
   "source": [
    "user_input_length=int(input(\"Entre the length of your array : \"))\n",
    "empty_list=[]\n",
    "for var_1 in range(user_input_length):\n",
    "    user_input=int(input(\"Enter your number :\"))\n",
    "    empty_list.append(user_input)\n",
    "number_list=empty_list\n",
    "First=number_list[0]\n",
    "Second=number_list[0]\n",
    "for var in range(1,user_input_length):\n",
    "    if number_list[var]>First:\n",
    "        Second=First\n",
    "        First=number_list[var]\n",
    "    elif Second>number_list[var] and First!=number_list[var]:\n",
    "        Second=number_list[var]\n",
    "    else:\n",
    "        pass\n",
    "print(f\"The largest element in the array is {First}\")\n",
    "print(f\"The Second largest element in the array is {Second}\")\n",
    "\n"
   ]
  },
  {
   "cell_type": "code",
   "execution_count": null,
   "metadata": {},
   "outputs": [],
   "source": []
  }
 ],
 "metadata": {
  "kernelspec": {
   "display_name": "Python 3",
   "language": "python",
   "name": "python3"
  },
  "language_info": {
   "codemirror_mode": {
    "name": "ipython",
    "version": 3
   },
   "file_extension": ".py",
   "mimetype": "text/x-python",
   "name": "python",
   "nbconvert_exporter": "python",
   "pygments_lexer": "ipython3",
   "version": "3.6.5"
  }
 },
 "nbformat": 4,
 "nbformat_minor": 2
}
