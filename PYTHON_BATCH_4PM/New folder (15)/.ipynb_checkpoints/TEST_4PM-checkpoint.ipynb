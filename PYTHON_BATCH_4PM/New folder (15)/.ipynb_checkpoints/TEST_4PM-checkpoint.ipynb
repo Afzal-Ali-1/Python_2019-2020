{
 "cells": [
  {
   "cell_type": "code",
   "execution_count": 7,
   "metadata": {},
   "outputs": [
    {
     "name": "stdout",
     "output_type": "stream",
     "text": [
      "['afzal', 'nitesh', 'sachin', 'afzal', 'nehal', 'ajay', 'alice', 'sana', 'sakshi', 'sana', 'sachin']\n",
      "{'sachin', 'afzal', 'alice', 'ajay', 'nitesh', 'nehal', 'sana', 'sakshi'}\n"
     ]
    }
   ],
   "source": [
    "string=\"afzal nitesh sachin afzal nehal ajay alice sana sakshi sana sachin\"\n",
    "data = string.split()\n",
    "print(data)\n",
    "unique = set(data)\n",
    "print(data1)"
   ]
  },
  {
   "cell_type": "code",
   "execution_count": 14,
   "metadata": {},
   "outputs": [
    {
     "name": "stdout",
     "output_type": "stream",
     "text": [
      "sachin\n",
      "2\n",
      "afzal\n",
      "2\n",
      "alice\n",
      "1\n",
      "ajay\n",
      "1\n",
      "nitesh\n",
      "1\n",
      "nehal\n",
      "1\n",
      "sana\n",
      "2\n",
      "sakshi\n",
      "1\n"
     ]
    }
   ],
   "source": [
    "counter=0\n",
    "lis=[]\n",
    "for var in unique:\n",
    "    for var2 in data:\n",
    "        if var==var2:\n",
    "            if var2 in lis:\n",
    "                pass\n",
    "            else:\n",
    "                lis.append(var2)\n",
    "                print(var)\n",
    "                print(data.count(var))"
   ]
  },
  {
   "cell_type": "code",
   "execution_count": null,
   "metadata": {},
   "outputs": [],
   "source": [
    "string=\"\"\"nehal=10\n",
    "afzal=20\n",
    "nitesh=30\n",
    "sana=10\"\"\"\n",
    "\n",
    "\n",
    "\n",
    "#outupt\n",
    "\"\"\"\n",
    "{nehal:10,afzal:10,nitesh:30,sana:10}\"\"\""
   ]
  },
  {
   "cell_type": "code",
   "execution_count": 16,
   "metadata": {},
   "outputs": [
    {
     "name": "stdout",
     "output_type": "stream",
     "text": [
      "nehal=10\n",
      "afzal=20\n",
      "nitesh=30\n",
      "sana=10\n"
     ]
    }
   ],
   "source": [
    "string=\"\"\"nehal=10\n",
    "afzal=20\n",
    "nitesh=30\n",
    "sana=10\"\"\"\n",
    "print(string)"
   ]
  },
  {
   "cell_type": "code",
   "execution_count": 17,
   "metadata": {},
   "outputs": [],
   "source": [
    "data = string.split('\\n')"
   ]
  },
  {
   "cell_type": "code",
   "execution_count": 18,
   "metadata": {},
   "outputs": [
    {
     "data": {
      "text/plain": [
       "['nehal=10', 'afzal=20', 'nitesh=30', 'sana=10']"
      ]
     },
     "execution_count": 18,
     "metadata": {},
     "output_type": "execute_result"
    }
   ],
   "source": [
    "data"
   ]
  },
  {
   "cell_type": "code",
   "execution_count": 20,
   "metadata": {},
   "outputs": [],
   "source": [
    "d = []\n",
    "for var in data:\n",
    "    var = var.split('=')\n",
    "    d.append(var)"
   ]
  },
  {
   "cell_type": "code",
   "execution_count": 21,
   "metadata": {},
   "outputs": [
    {
     "data": {
      "text/plain": [
       "[['nehal', '10'], ['afzal', '20'], ['nitesh', '30'], ['sana', '10']]"
      ]
     },
     "execution_count": 21,
     "metadata": {},
     "output_type": "execute_result"
    }
   ],
   "source": [
    "d"
   ]
  },
  {
   "cell_type": "code",
   "execution_count": 22,
   "metadata": {},
   "outputs": [],
   "source": [
    "name=[]\n",
    "marks = []\n",
    "for var1 in d:\n",
    "    for var2 in var1:\n",
    "        if var2.isalpha():\n",
    "            name.append(var2)\n",
    "        else:\n",
    "            marks.append(var2)\n",
    "        "
   ]
  },
  {
   "cell_type": "code",
   "execution_count": 23,
   "metadata": {},
   "outputs": [
    {
     "data": {
      "text/plain": [
       "['nehal', 'afzal', 'nitesh', 'sana']"
      ]
     },
     "execution_count": 23,
     "metadata": {},
     "output_type": "execute_result"
    }
   ],
   "source": [
    "name"
   ]
  },
  {
   "cell_type": "code",
   "execution_count": 24,
   "metadata": {},
   "outputs": [
    {
     "data": {
      "text/plain": [
       "['10', '20', '30', '10']"
      ]
     },
     "execution_count": 24,
     "metadata": {},
     "output_type": "execute_result"
    }
   ],
   "source": [
    "marks"
   ]
  },
  {
   "cell_type": "code",
   "execution_count": 25,
   "metadata": {},
   "outputs": [],
   "source": [
    "marks = list(map(int,marks))"
   ]
  },
  {
   "cell_type": "code",
   "execution_count": 26,
   "metadata": {},
   "outputs": [
    {
     "data": {
      "text/plain": [
       "[10, 20, 30, 10]"
      ]
     },
     "execution_count": 26,
     "metadata": {},
     "output_type": "execute_result"
    }
   ],
   "source": [
    "marks"
   ]
  },
  {
   "cell_type": "code",
   "execution_count": 27,
   "metadata": {},
   "outputs": [
    {
     "data": {
      "text/plain": [
       "{'nehal': 10, 'afzal': 20, 'nitesh': 30, 'sana': 10}"
      ]
     },
     "execution_count": 27,
     "metadata": {},
     "output_type": "execute_result"
    }
   ],
   "source": [
    "dict(zip(name,marks))"
   ]
  },
  {
   "cell_type": "code",
   "execution_count": 28,
   "metadata": {},
   "outputs": [
    {
     "data": {
      "text/plain": [
       "[['nehal', '10'], ['afzal', '20'], ['nitesh', '30'], ['sana', '10']]"
      ]
     },
     "execution_count": 28,
     "metadata": {},
     "output_type": "execute_result"
    }
   ],
   "source": [
    "d"
   ]
  },
  {
   "cell_type": "code",
   "execution_count": 29,
   "metadata": {},
   "outputs": [],
   "source": [
    "di={}\n",
    "for var,var2 in d:\n",
    "    di.setdefault(var,var2)"
   ]
  },
  {
   "cell_type": "code",
   "execution_count": 31,
   "metadata": {},
   "outputs": [
    {
     "data": {
      "text/plain": [
       "{'nehal': '10', 'afzal': '20', 'nitesh': '30', 'sana': '10'}"
      ]
     },
     "execution_count": 31,
     "metadata": {},
     "output_type": "execute_result"
    }
   ],
   "source": [
    "di"
   ]
  },
  {
   "cell_type": "code",
   "execution_count": 32,
   "metadata": {},
   "outputs": [],
   "source": [
    "a = 10\n",
    "b = 30\n",
    "a,b = b,a"
   ]
  },
  {
   "cell_type": "code",
   "execution_count": 33,
   "metadata": {},
   "outputs": [
    {
     "name": "stdout",
     "output_type": "stream",
     "text": [
      "30 10\n"
     ]
    }
   ],
   "source": [
    "print(a,b)"
   ]
  },
  {
   "cell_type": "code",
   "execution_count": 34,
   "metadata": {},
   "outputs": [
    {
     "name": "stdout",
     "output_type": "stream",
     "text": [
      "['afzal', 'ajay', 'alice', 'bob', 'bunty', 'cuckoo', 'jhon', 'nehal', 'nitesh', 'sachin', 'sakshi', 'smith']\n"
     ]
    }
   ],
   "source": [
    "#arrange names in alphabatical order\n",
    "names=\"\"\"nehal sakshi afzal bunty nitesh cuckoo sachin ajay alice bob jhon smith\"\"\"\n",
    "n = names.split()\n",
    "n.sort()\n",
    "print(n)"
   ]
  },
  {
   "cell_type": "code",
   "execution_count": 1,
   "metadata": {},
   "outputs": [
    {
     "name": "stdout",
     "output_type": "stream",
     "text": [
      "Entre the length of your array : 5\n",
      "Enter your number :63\n",
      "Enter your number :98\n",
      "Enter your number :65\n",
      "Enter your number :25\n",
      "Enter your number :14\n",
      "The largest element in the array is 98\n",
      "The Second largest element in the array is 65\n"
     ]
    }
   ],
   "source": [
    "#find second largest and the largest element in an array.\n",
    "user_input_length=int(input(\"Entre the length of your array : \"))\n",
    "empty_list=[]\n",
    "for var_1 in range(user_input_length):\n",
    "    user_input=int(input(\"Enter your number :\"))\n",
    "    empty_list.append(user_input)\n",
    "number_list=empty_list\n",
    "First=number_list[0]\n",
    "Second=number_list[0]\n",
    "for var in range(1,user_input_length):\n",
    "    if number_list[var]>First:\n",
    "        Second=First\n",
    "        First=number_list[var]\n",
    "    elif number_list[var]>Second and number_list[var]!=First:\n",
    "        Second=number_list[var]\n",
    "    else:\n",
    "        pass\n",
    "print(f\"The largest element in the array is {First}\")\n",
    "print(f\"The Second largest element in the array is {Second}\")"
   ]
  },
  {
   "cell_type": "code",
   "execution_count": null,
   "metadata": {},
   "outputs": [],
   "source": []
  }
 ],
 "metadata": {
  "kernelspec": {
   "display_name": "Python 3",
   "language": "python",
   "name": "python3"
  },
  "language_info": {
   "codemirror_mode": {
    "name": "ipython",
    "version": 3
   },
   "file_extension": ".py",
   "mimetype": "text/x-python",
   "name": "python",
   "nbconvert_exporter": "python",
   "pygments_lexer": "ipython3",
   "version": "3.6.5"
  }
 },
 "nbformat": 4,
 "nbformat_minor": 2
}
