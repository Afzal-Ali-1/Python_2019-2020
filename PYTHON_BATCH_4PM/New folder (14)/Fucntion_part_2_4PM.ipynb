{
 "cells": [
  {
   "cell_type": "code",
   "execution_count": 9,
   "metadata": {},
   "outputs": [
    {
     "data": {
      "text/plain": [
       "'\\nsyntax ::---\\ndef fucntion_name(arguments):#title case\\n    statements-1\\n    statements-2\\n    ------------\\n    -----------\\n    return '"
      ]
     },
     "execution_count": 9,
     "metadata": {},
     "output_type": "execute_result"
    }
   ],
   "source": [
    "a=\"p\"\n",
    "\"\"\"\n",
    "syntax ::---\n",
    "def fucntion_name(arguments):#title case\n",
    "    statements-1\n",
    "    statements-2\n",
    "    ------------\n",
    "    -----------\n",
    "    return \"\"\""
   ]
  },
  {
   "cell_type": "code",
   "execution_count": 6,
   "metadata": {},
   "outputs": [],
   "source": [
    "def even(number):#formal parameter\n",
    "    print(id(number))\n",
    "    if number%2==0:\n",
    "        return True\n",
    "    else:\n",
    "        return False"
   ]
  },
  {
   "cell_type": "code",
   "execution_count": 7,
   "metadata": {},
   "outputs": [
    {
     "name": "stdout",
     "output_type": "stream",
     "text": [
      "1925475744\n"
     ]
    },
    {
     "data": {
      "text/plain": [
       "True"
      ]
     },
     "execution_count": 7,
     "metadata": {},
     "output_type": "execute_result"
    }
   ],
   "source": [
    "even(12)#Actual parameter"
   ]
  },
  {
   "cell_type": "code",
   "execution_count": 8,
   "metadata": {},
   "outputs": [
    {
     "name": "stdout",
     "output_type": "stream",
     "text": [
      "1925475392\n",
      "1925475392\n"
     ]
    },
    {
     "data": {
      "text/plain": [
       "False"
      ]
     },
     "execution_count": 8,
     "metadata": {},
     "output_type": "execute_result"
    }
   ],
   "source": [
    "a=1\n",
    "print(id(a))\n",
    "even(a)"
   ]
  },
  {
   "cell_type": "code",
   "execution_count": 10,
   "metadata": {},
   "outputs": [
    {
     "data": {
      "text/plain": [
       "'p'"
      ]
     },
     "execution_count": 10,
     "metadata": {},
     "output_type": "execute_result"
    }
   ],
   "source": [
    "a"
   ]
  },
  {
   "cell_type": "code",
   "execution_count": 11,
   "metadata": {},
   "outputs": [
    {
     "data": {
      "text/plain": [
       "{'__name__': '__main__',\n",
       " '__doc__': 'Automatically created module for IPython interactive environment',\n",
       " '__package__': None,\n",
       " '__loader__': None,\n",
       " '__spec__': None,\n",
       " '__builtin__': <module 'builtins' (built-in)>,\n",
       " '__builtins__': <module 'builtins' (built-in)>,\n",
       " '_ih': ['',\n",
       "  '\"\"\"\\nsyntax ::---\\ndef fucntion_name(arguments):#title case\\n    statements-1\\n    statements-2\\n    ------------\\n    -----------\\n    return \"\"\"',\n",
       "  'def even(number):\\n    if number%2==0:\\n        return True\\n    else:\\n        return False',\n",
       "  'even(12)#Actual parameter',\n",
       "  'a=1\\neven(a)',\n",
       "  'a=1\\nprint(id(a))\\neven(a)',\n",
       "  'def even(number):\\n    print(id(number))#formal parameter\\n    if number%2==0:\\n        return True\\n    else:\\n        return False',\n",
       "  'even(12)#Actual parameter',\n",
       "  'a=1\\nprint(id(a))\\neven(a)',\n",
       "  'a=\"p\"\\n\"\"\"\\nsyntax ::---\\ndef fucntion_name(arguments):#title case\\n    statements-1\\n    statements-2\\n    ------------\\n    -----------\\n    return \"\"\"',\n",
       "  'a',\n",
       "  'vars()'],\n",
       " '_oh': {1: '\\nsyntax ::---\\ndef fucntion_name(arguments):#title case\\n    statements-1\\n    statements-2\\n    ------------\\n    -----------\\n    return ',\n",
       "  3: True,\n",
       "  4: False,\n",
       "  5: False,\n",
       "  7: True,\n",
       "  8: False,\n",
       "  9: '\\nsyntax ::---\\ndef fucntion_name(arguments):#title case\\n    statements-1\\n    statements-2\\n    ------------\\n    -----------\\n    return ',\n",
       "  10: 'p'},\n",
       " '_dh': ['E:\\\\PYHTON CLASSES\\\\PYTHON_BATCH_4PM\\\\New folder (14)'],\n",
       " 'In': ['',\n",
       "  '\"\"\"\\nsyntax ::---\\ndef fucntion_name(arguments):#title case\\n    statements-1\\n    statements-2\\n    ------------\\n    -----------\\n    return \"\"\"',\n",
       "  'def even(number):\\n    if number%2==0:\\n        return True\\n    else:\\n        return False',\n",
       "  'even(12)#Actual parameter',\n",
       "  'a=1\\neven(a)',\n",
       "  'a=1\\nprint(id(a))\\neven(a)',\n",
       "  'def even(number):\\n    print(id(number))#formal parameter\\n    if number%2==0:\\n        return True\\n    else:\\n        return False',\n",
       "  'even(12)#Actual parameter',\n",
       "  'a=1\\nprint(id(a))\\neven(a)',\n",
       "  'a=\"p\"\\n\"\"\"\\nsyntax ::---\\ndef fucntion_name(arguments):#title case\\n    statements-1\\n    statements-2\\n    ------------\\n    -----------\\n    return \"\"\"',\n",
       "  'a',\n",
       "  'vars()'],\n",
       " 'Out': {1: '\\nsyntax ::---\\ndef fucntion_name(arguments):#title case\\n    statements-1\\n    statements-2\\n    ------------\\n    -----------\\n    return ',\n",
       "  3: True,\n",
       "  4: False,\n",
       "  5: False,\n",
       "  7: True,\n",
       "  8: False,\n",
       "  9: '\\nsyntax ::---\\ndef fucntion_name(arguments):#title case\\n    statements-1\\n    statements-2\\n    ------------\\n    -----------\\n    return ',\n",
       "  10: 'p'},\n",
       " 'get_ipython': <bound method InteractiveShell.get_ipython of <ipykernel.zmqshell.ZMQInteractiveShell object at 0x0000016A0C77AD68>>,\n",
       " 'exit': <IPython.core.autocall.ZMQExitAutocall at 0x16a0c7e7208>,\n",
       " 'quit': <IPython.core.autocall.ZMQExitAutocall at 0x16a0c7e7208>,\n",
       " '_': 'p',\n",
       " '__': '\\nsyntax ::---\\ndef fucntion_name(arguments):#title case\\n    statements-1\\n    statements-2\\n    ------------\\n    -----------\\n    return ',\n",
       " '___': False,\n",
       " '_i': 'a',\n",
       " '_ii': 'a=\"p\"\\n\"\"\"\\nsyntax ::---\\ndef fucntion_name(arguments):#title case\\n    statements-1\\n    statements-2\\n    ------------\\n    -----------\\n    return \"\"\"',\n",
       " '_iii': 'a=1\\nprint(id(a))\\neven(a)',\n",
       " '_i1': '\"\"\"\\nsyntax ::---\\ndef fucntion_name(arguments):#title case\\n    statements-1\\n    statements-2\\n    ------------\\n    -----------\\n    return \"\"\"',\n",
       " '_1': '\\nsyntax ::---\\ndef fucntion_name(arguments):#title case\\n    statements-1\\n    statements-2\\n    ------------\\n    -----------\\n    return ',\n",
       " '_i2': 'def even(number):\\n    if number%2==0:\\n        return True\\n    else:\\n        return False',\n",
       " 'even': <function __main__.even(number)>,\n",
       " '_i3': 'even(12)#Actual parameter',\n",
       " '_3': True,\n",
       " '_i4': 'a=1\\neven(a)',\n",
       " 'a': 'p',\n",
       " '_4': False,\n",
       " '_i5': 'a=1\\nprint(id(a))\\neven(a)',\n",
       " '_5': False,\n",
       " '_i6': 'def even(number):\\n    print(id(number))#formal parameter\\n    if number%2==0:\\n        return True\\n    else:\\n        return False',\n",
       " '_i7': 'even(12)#Actual parameter',\n",
       " '_7': True,\n",
       " '_i8': 'a=1\\nprint(id(a))\\neven(a)',\n",
       " '_8': False,\n",
       " '_i9': 'a=\"p\"\\n\"\"\"\\nsyntax ::---\\ndef fucntion_name(arguments):#title case\\n    statements-1\\n    statements-2\\n    ------------\\n    -----------\\n    return \"\"\"',\n",
       " '_9': '\\nsyntax ::---\\ndef fucntion_name(arguments):#title case\\n    statements-1\\n    statements-2\\n    ------------\\n    -----------\\n    return ',\n",
       " '_i10': 'a',\n",
       " '_10': 'p',\n",
       " '_i11': 'vars()'}"
      ]
     },
     "execution_count": 11,
     "metadata": {},
     "output_type": "execute_result"
    }
   ],
   "source": [
    "vars()"
   ]
  },
  {
   "cell_type": "code",
   "execution_count": 12,
   "metadata": {},
   "outputs": [],
   "source": [
    "def even(number):#formal parameter\n",
    "    print(id(number))\n",
    "    print(vars())\n",
    "    if number%2==0:\n",
    "        return True\n",
    "    else:\n",
    "        return False"
   ]
  },
  {
   "cell_type": "code",
   "execution_count": 13,
   "metadata": {},
   "outputs": [
    {
     "name": "stdout",
     "output_type": "stream",
     "text": [
      "1925475680\n",
      "{'number': 10}\n"
     ]
    },
    {
     "data": {
      "text/plain": [
       "True"
      ]
     },
     "execution_count": 13,
     "metadata": {},
     "output_type": "execute_result"
    }
   ],
   "source": [
    "even(10)"
   ]
  },
  {
   "cell_type": "code",
   "execution_count": 14,
   "metadata": {},
   "outputs": [],
   "source": [
    "name=[\"a\"]\n",
    "sid=[\"1\"]"
   ]
  },
  {
   "cell_type": "code",
   "execution_count": 16,
   "metadata": {},
   "outputs": [
    {
     "data": {
      "text/plain": [
       "{'a': '1'}"
      ]
     },
     "execution_count": 16,
     "metadata": {},
     "output_type": "execute_result"
    }
   ],
   "source": [
    "dict(zip(name,sid))"
   ]
  },
  {
   "cell_type": "code",
   "execution_count": 19,
   "metadata": {},
   "outputs": [],
   "source": [
    "d={}\n",
    "for var,var2 in zip(name,sid):\n",
    "    d.setdefault(var,var2)\n",
    "    "
   ]
  },
  {
   "cell_type": "code",
   "execution_count": 20,
   "metadata": {},
   "outputs": [
    {
     "data": {
      "text/plain": [
       "{'a': '1'}"
      ]
     },
     "execution_count": 20,
     "metadata": {},
     "output_type": "execute_result"
    }
   ],
   "source": [
    "d"
   ]
  },
  {
   "cell_type": "code",
   "execution_count": 21,
   "metadata": {},
   "outputs": [
    {
     "data": {
      "text/plain": [
       "'\\n1.user define transformation function\\n2.user define aggregation function\\n3.user define function'"
      ]
     },
     "execution_count": 21,
     "metadata": {},
     "output_type": "execute_result"
    }
   ],
   "source": [
    "\"\"\"\n",
    "1.user define transformation function\n",
    "2.user define aggregation function\n",
    "3.user define function\"\"\""
   ]
  },
  {
   "cell_type": "code",
   "execution_count": 22,
   "metadata": {},
   "outputs": [],
   "source": [
    "lis=[1,2,3,4,5]"
   ]
  },
  {
   "cell_type": "code",
   "execution_count": 24,
   "metadata": {},
   "outputs": [
    {
     "data": {
      "text/plain": [
       "[5, 4, 3, 2, 1]"
      ]
     },
     "execution_count": 24,
     "metadata": {},
     "output_type": "execute_result"
    }
   ],
   "source": [
    "sorted(lis,reverse=True)"
   ]
  },
  {
   "cell_type": "code",
   "execution_count": 25,
   "metadata": {},
   "outputs": [],
   "source": [
    "#define a fucntion which return square value of input data"
   ]
  },
  {
   "cell_type": "code",
   "execution_count": 26,
   "metadata": {},
   "outputs": [
    {
     "data": {
      "text/plain": [
       "[1, 2, 3, 4, 5]"
      ]
     },
     "execution_count": 26,
     "metadata": {},
     "output_type": "execute_result"
    }
   ],
   "source": [
    "lis"
   ]
  },
  {
   "cell_type": "code",
   "execution_count": 27,
   "metadata": {},
   "outputs": [],
   "source": [
    "def sqr(*args):\n",
    "    l=[]\n",
    "    for var in args:\n",
    "        l.append(var**2)\n",
    "    return l\n",
    "        "
   ]
  },
  {
   "cell_type": "code",
   "execution_count": 28,
   "metadata": {},
   "outputs": [
    {
     "data": {
      "text/plain": [
       "[1, 4, 9, 16, 25]"
      ]
     },
     "execution_count": 28,
     "metadata": {},
     "output_type": "execute_result"
    }
   ],
   "source": [
    "sqr(*lis)"
   ]
  },
  {
   "cell_type": "code",
   "execution_count": 29,
   "metadata": {},
   "outputs": [
    {
     "data": {
      "text/plain": [
       "15"
      ]
     },
     "execution_count": 29,
     "metadata": {},
     "output_type": "execute_result"
    }
   ],
   "source": [
    "sum(lis)"
   ]
  },
  {
   "cell_type": "code",
   "execution_count": 30,
   "metadata": {},
   "outputs": [],
   "source": [
    "def sqr(*args):\n",
    "    l=0\n",
    "    for var in args:\n",
    "        l+=var\n",
    "    return l\n",
    "        "
   ]
  },
  {
   "cell_type": "code",
   "execution_count": 31,
   "metadata": {},
   "outputs": [
    {
     "data": {
      "text/plain": [
       "15"
      ]
     },
     "execution_count": 31,
     "metadata": {},
     "output_type": "execute_result"
    }
   ],
   "source": [
    "sqr(*lis)#sqr(1, 2, 3, 4, 5)"
   ]
  },
  {
   "cell_type": "code",
   "execution_count": 32,
   "metadata": {},
   "outputs": [
    {
     "data": {
      "text/plain": [
       "'\\nuser define function::::------\\n1.without argument and without return type\\n2.with argument and without retrun type\\n3.without argument and with return type\\n4.with argument with return type'"
      ]
     },
     "execution_count": 32,
     "metadata": {},
     "output_type": "execute_result"
    }
   ],
   "source": [
    "\"\"\"\n",
    "user define function::::------\n",
    "1.without argument and without return type\n",
    "2.with argument and without retrun type\n",
    "3.without argument and with return type\n",
    "4.with argument with return type\"\"\""
   ]
  },
  {
   "cell_type": "code",
   "execution_count": 33,
   "metadata": {},
   "outputs": [
    {
     "data": {
      "text/plain": [
       "'\\nwithout argumnent and return type'"
      ]
     },
     "execution_count": 33,
     "metadata": {},
     "output_type": "execute_result"
    }
   ],
   "source": [
    "\"\"\"\n",
    "without argumnent and return type\"\"\""
   ]
  },
  {
   "cell_type": "code",
   "execution_count": 34,
   "metadata": {},
   "outputs": [
    {
     "name": "stdout",
     "output_type": "stream",
     "text": [
      "Enter your name : afaal\n",
      "afaal\n"
     ]
    }
   ],
   "source": [
    "name=input(\"Enter your name : \")\n",
    "print(name)"
   ]
  },
  {
   "cell_type": "code",
   "execution_count": 35,
   "metadata": {},
   "outputs": [],
   "source": [
    "def greet():\n",
    "    name=input(\"Enter your name : \")\n",
    "    print(name)"
   ]
  },
  {
   "cell_type": "code",
   "execution_count": 36,
   "metadata": {},
   "outputs": [
    {
     "name": "stdout",
     "output_type": "stream",
     "text": [
      "Enter your name : afzal\n",
      "afzal\n"
     ]
    }
   ],
   "source": [
    "greet()"
   ]
  },
  {
   "cell_type": "code",
   "execution_count": 37,
   "metadata": {},
   "outputs": [
    {
     "data": {
      "text/plain": [
       "'\\nwith arg without return'"
      ]
     },
     "execution_count": 37,
     "metadata": {},
     "output_type": "execute_result"
    }
   ],
   "source": [
    "\"\"\"\n",
    "with arg without return\"\"\""
   ]
  },
  {
   "cell_type": "code",
   "execution_count": 47,
   "metadata": {},
   "outputs": [],
   "source": [
    "def gr(name):\n",
    "    print(id(name))\n",
    "    print(\"Hello\",name)\n",
    "    name=name[::-1]\n",
    "    print(\"Hello reverse\",name)"
   ]
  },
  {
   "cell_type": "code",
   "execution_count": 48,
   "metadata": {},
   "outputs": [
    {
     "name": "stdout",
     "output_type": "stream",
     "text": [
      "1554989354096\n"
     ]
    }
   ],
   "source": [
    "a=\"Nehal\"\n",
    "print(id(a))"
   ]
  },
  {
   "cell_type": "code",
   "execution_count": 49,
   "metadata": {},
   "outputs": [
    {
     "name": "stdout",
     "output_type": "stream",
     "text": [
      "1554989354096\n",
      "Hello Nehal\n",
      "Hello reverse laheN\n"
     ]
    }
   ],
   "source": [
    "gr(a)"
   ]
  },
  {
   "cell_type": "code",
   "execution_count": 57,
   "metadata": {},
   "outputs": [],
   "source": [
    "def gr(name):\n",
    "    print(id(name))\n",
    "    print(\"Hello\",name)\n",
    "    name.append(\"hi\")\n",
    "    print(name)"
   ]
  },
  {
   "cell_type": "code",
   "execution_count": 58,
   "metadata": {},
   "outputs": [],
   "source": [
    "a=[1,2,3]"
   ]
  },
  {
   "cell_type": "code",
   "execution_count": 59,
   "metadata": {},
   "outputs": [
    {
     "name": "stdout",
     "output_type": "stream",
     "text": [
      "1554989366344\n",
      "Hello [1, 2, 3]\n",
      "[1, 2, 3, 'hi']\n"
     ]
    }
   ],
   "source": [
    "gr(a)"
   ]
  },
  {
   "cell_type": "code",
   "execution_count": 54,
   "metadata": {},
   "outputs": [],
   "source": [
    "p=[1,2,3]\n",
    "q=p.append(\"hi\")"
   ]
  },
  {
   "cell_type": "code",
   "execution_count": 55,
   "metadata": {},
   "outputs": [
    {
     "data": {
      "text/plain": [
       "[1, 2, 3, 'hi']"
      ]
     },
     "execution_count": 55,
     "metadata": {},
     "output_type": "execute_result"
    }
   ],
   "source": [
    "p"
   ]
  },
  {
   "cell_type": "code",
   "execution_count": 56,
   "metadata": {},
   "outputs": [],
   "source": [
    "q"
   ]
  },
  {
   "cell_type": "code",
   "execution_count": 60,
   "metadata": {},
   "outputs": [
    {
     "data": {
      "text/plain": [
       "[1, 2, 3, 'hi']"
      ]
     },
     "execution_count": 60,
     "metadata": {},
     "output_type": "execute_result"
    }
   ],
   "source": [
    "a"
   ]
  },
  {
   "cell_type": "code",
   "execution_count": 61,
   "metadata": {},
   "outputs": [
    {
     "data": {
      "text/plain": [
       "'\\nwithout argument and with return type'"
      ]
     },
     "execution_count": 61,
     "metadata": {},
     "output_type": "execute_result"
    }
   ],
   "source": [
    "\"\"\"\n",
    "without argument and with return type\"\"\""
   ]
  },
  {
   "cell_type": "code",
   "execution_count": 62,
   "metadata": {},
   "outputs": [],
   "source": [
    "name=\"Nehal\""
   ]
  },
  {
   "cell_type": "code",
   "execution_count": 64,
   "metadata": {},
   "outputs": [],
   "source": [
    "a=name.upper()"
   ]
  },
  {
   "cell_type": "code",
   "execution_count": 65,
   "metadata": {},
   "outputs": [
    {
     "data": {
      "text/plain": [
       "'NEHAL'"
      ]
     },
     "execution_count": 65,
     "metadata": {},
     "output_type": "execute_result"
    }
   ],
   "source": [
    "a"
   ]
  },
  {
   "cell_type": "code",
   "execution_count": 66,
   "metadata": {},
   "outputs": [],
   "source": [
    "def revr(name):\n",
    "    return name[::-1]"
   ]
  },
  {
   "cell_type": "code",
   "execution_count": 67,
   "metadata": {},
   "outputs": [
    {
     "data": {
      "text/plain": [
       "'Nehal'"
      ]
     },
     "execution_count": 67,
     "metadata": {},
     "output_type": "execute_result"
    }
   ],
   "source": [
    "name"
   ]
  },
  {
   "cell_type": "code",
   "execution_count": 69,
   "metadata": {},
   "outputs": [],
   "source": [
    "a=revr(name)"
   ]
  },
  {
   "cell_type": "code",
   "execution_count": 70,
   "metadata": {},
   "outputs": [
    {
     "data": {
      "text/plain": [
       "'laheN'"
      ]
     },
     "execution_count": 70,
     "metadata": {},
     "output_type": "execute_result"
    }
   ],
   "source": [
    "a"
   ]
  },
  {
   "cell_type": "code",
   "execution_count": 71,
   "metadata": {},
   "outputs": [
    {
     "data": {
      "text/plain": [
       "'Nehal'"
      ]
     },
     "execution_count": 71,
     "metadata": {},
     "output_type": "execute_result"
    }
   ],
   "source": [
    "name"
   ]
  },
  {
   "cell_type": "code",
   "execution_count": 72,
   "metadata": {},
   "outputs": [],
   "source": [
    "def revr():\n",
    "    return name[::-1]"
   ]
  },
  {
   "cell_type": "code",
   "execution_count": 73,
   "metadata": {},
   "outputs": [
    {
     "data": {
      "text/plain": [
       "'laheN'"
      ]
     },
     "execution_count": 73,
     "metadata": {},
     "output_type": "execute_result"
    }
   ],
   "source": [
    "revr()"
   ]
  },
  {
   "cell_type": "code",
   "execution_count": 74,
   "metadata": {},
   "outputs": [
    {
     "data": {
      "text/plain": [
       "'\\nwith argument and with return type'"
      ]
     },
     "execution_count": 74,
     "metadata": {},
     "output_type": "execute_result"
    }
   ],
   "source": [
    "\"\"\"\n",
    "with argument and with return type\"\"\""
   ]
  },
  {
   "cell_type": "code",
   "execution_count": 77,
   "metadata": {},
   "outputs": [],
   "source": [
    "def revr(name):\n",
    "    return name[::-1].upper()"
   ]
  },
  {
   "cell_type": "code",
   "execution_count": 78,
   "metadata": {},
   "outputs": [
    {
     "data": {
      "text/plain": [
       "'LAHEN'"
      ]
     },
     "execution_count": 78,
     "metadata": {},
     "output_type": "execute_result"
    }
   ],
   "source": [
    "revr(name)"
   ]
  },
  {
   "cell_type": "code",
   "execution_count": 79,
   "metadata": {},
   "outputs": [],
   "source": [
    "#write a fucntion which take name and age as a parameter\n",
    "#and return name like i.e you can vote *name* if age is greater than and equal to 18\n",
    "#otherwise return you can note vote *name*"
   ]
  },
  {
   "cell_type": "code",
   "execution_count": 89,
   "metadata": {},
   "outputs": [],
   "source": [
    "def vote(name,age):\n",
    "    if age>=18:\n",
    "        return f\"you can vote {name}\"\n",
    "    else:\n",
    "        return f\"you can not vote {name}\""
   ]
  },
  {
   "cell_type": "code",
   "execution_count": 81,
   "metadata": {},
   "outputs": [
    {
     "data": {
      "text/plain": [
       "'you can vote AFzal'"
      ]
     },
     "execution_count": 81,
     "metadata": {},
     "output_type": "execute_result"
    }
   ],
   "source": [
    "vote(\"AFzal\",99)"
   ]
  },
  {
   "cell_type": "code",
   "execution_count": 82,
   "metadata": {},
   "outputs": [
    {
     "data": {
      "text/plain": [
       "'you can not vote Afzal'"
      ]
     },
     "execution_count": 82,
     "metadata": {},
     "output_type": "execute_result"
    }
   ],
   "source": [
    "vote(\"Afzal\",17)"
   ]
  },
  {
   "cell_type": "code",
   "execution_count": 92,
   "metadata": {},
   "outputs": [],
   "source": [
    "name=[\"NEhal\",23,\"sachin\",26,\"rajat\",35,\"afzal\",16]"
   ]
  },
  {
   "cell_type": "code",
   "execution_count": 93,
   "metadata": {},
   "outputs": [
    {
     "name": "stdout",
     "output_type": "stream",
     "text": [
      "you can vote NEhal\n",
      "you can vote sachin\n",
      "you can vote rajat\n",
      "you can not vote afzal\n"
     ]
    }
   ],
   "source": [
    "name_=[]\n",
    "age=[]\n",
    "for var in name:\n",
    "    var=str(var)\n",
    "    if var.isalpha():\n",
    "        name_.append(var)\n",
    "    else:\n",
    "        age.append(var)\n",
    "age=list(map(int,age))\n",
    "for var1,var2 in zip(name_,age):\n",
    "    a=vote(var1,var2)\n",
    "    print(a)"
   ]
  },
  {
   "cell_type": "code",
   "execution_count": 94,
   "metadata": {},
   "outputs": [],
   "source": [
    "details={\"name\":\"AFzal\",\n",
    "        \"balance\":100,\n",
    "        \"password\":\"12345\",\n",
    "        \"id\":1001}"
   ]
  },
  {
   "cell_type": "code",
   "execution_count": null,
   "metadata": {},
   "outputs": [],
   "source": [
    "\"\"\"\n",
    "def login(id,pass)\"\"\""
   ]
  }
 ],
 "metadata": {
  "kernelspec": {
   "display_name": "Python 3",
   "language": "python",
   "name": "python3"
  },
  "language_info": {
   "codemirror_mode": {
    "name": "ipython",
    "version": 3
   },
   "file_extension": ".py",
   "mimetype": "text/x-python",
   "name": "python",
   "nbconvert_exporter": "python",
   "pygments_lexer": "ipython3",
   "version": "3.6.5"
  }
 },
 "nbformat": 4,
 "nbformat_minor": 2
}
